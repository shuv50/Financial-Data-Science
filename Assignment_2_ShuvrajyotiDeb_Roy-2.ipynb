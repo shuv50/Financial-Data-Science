{
 "cells": [
  {
   "cell_type": "markdown",
   "id": "f1a21dfa",
   "metadata": {
    "id": "f1a21dfa"
   },
   "source": [
    "# Assignment-2\n",
    "Due date: Feb. 27 "
   ]
  },
  {
   "cell_type": "markdown",
   "id": "dd0b102d",
   "metadata": {},
   "source": [
    "### Feedback:\n",
    "- Not only the stocks, the index has to be different than the one used in class lecture. (-5)\n",
    "\n",
    "#### Grades (95)"
   ]
  },
  {
   "cell_type": "markdown",
   "id": "b0c432fc",
   "metadata": {
    "id": "b0c432fc"
   },
   "source": [
    "In this assignment, you are working at a hypothetical bank called `InvRes` Bank offering consulting service to its customers. Your first aim is to find out the risk level of these stocks relative to the market index.\n",
    "\n",
    "\n",
    "\n",
    "To accomplish this task, you will use Capital Asset Pricing Model (CAPM), which dates back to 1960’s, yet still powerful tool in finance due to its intuitive and easy-to-apply nature. As it is completely white-box model, it makes it easy to understand and explain. "
   ]
  },
  {
   "cell_type": "markdown",
   "id": "b72060eb",
   "metadata": {
    "id": "b72060eb"
   },
   "source": [
    "Once you estimate the slope coefficient (beta) and intercept term (alpha) of the CAPM model, you will be able to assess if the asset is risky compared to market. Then, your next task is to find out the stock with best risk-return relationship. To do that, you are required to employ the following ratios:\n",
    "\n",
    "• Sharpe ratio\n",
    "\n",
    "• Treynor ratio"
   ]
  },
  {
   "cell_type": "markdown",
   "id": "94723035",
   "metadata": {
    "id": "94723035"
   },
   "source": [
    "You can pick any two stocks and market index other than those we have in the class."
   ]
  },
  {
   "cell_type": "markdown",
   "id": "81bb9e36",
   "metadata": {
    "id": "81bb9e36"
   },
   "source": [
    "This assignment will be divided into 4 milestones.\n",
    "\n",
    "1. Accessing the data and obtain daily risk-free rate. Besides, analyze data via summary statistic. (25 pts)\n",
    "\n",
    "2. Examine the data through visualization and correlation. Calculate returns of the stocks and market. (25 pts)\n",
    "\n",
    "3. Run Capital Asset Pricing Model and interpret the results. (25 pts)\n",
    "\n",
    "4. Calculate Sharpe and Treynor measures. Compare and interpret the results and conclude. (25 pts)\n"
   ]
  },
  {
   "cell_type": "markdown",
   "id": "Ql1GL6oAs24G",
   "metadata": {
    "id": "Ql1GL6oAs24G"
   },
   "source": [
    "# Install dependencies"
   ]
  },
  {
   "cell_type": "code",
   "execution_count": 61,
   "id": "hv9ywnkiCWrb",
   "metadata": {
    "colab": {
     "base_uri": "https://localhost:8080/"
    },
    "id": "hv9ywnkiCWrb",
    "outputId": "84d30e9c-830c-4e03-ea8d-b596e2aa0e81"
   },
   "outputs": [
    {
     "name": "stdout",
     "output_type": "stream",
     "text": [
      "Looking in indexes: https://pypi.org/simple, https://us-python.pkg.dev/colab-wheels/public/simple/\n",
      "Requirement already satisfied: yfinance in /usr/local/lib/python3.8/dist-packages (0.2.12)\n",
      "Requirement already satisfied: numpy>=1.16.5 in /usr/local/lib/python3.8/dist-packages (from yfinance) (1.22.4)\n",
      "Requirement already satisfied: lxml>=4.9.1 in /usr/local/lib/python3.8/dist-packages (from yfinance) (4.9.2)\n",
      "Requirement already satisfied: frozendict>=2.3.4 in /usr/local/lib/python3.8/dist-packages (from yfinance) (2.3.5)\n",
      "Requirement already satisfied: beautifulsoup4>=4.11.1 in /usr/local/lib/python3.8/dist-packages (from yfinance) (4.11.2)\n",
      "Requirement already satisfied: requests>=2.26 in /usr/local/lib/python3.8/dist-packages (from yfinance) (2.28.2)\n",
      "Requirement already satisfied: appdirs>=1.4.4 in /usr/local/lib/python3.8/dist-packages (from yfinance) (1.4.4)\n",
      "Requirement already satisfied: html5lib>=1.1 in /usr/local/lib/python3.8/dist-packages (from yfinance) (1.1)\n",
      "Requirement already satisfied: pytz>=2022.5 in /usr/local/lib/python3.8/dist-packages (from yfinance) (2022.7.1)\n",
      "Requirement already satisfied: pandas>=1.3.0 in /usr/local/lib/python3.8/dist-packages (from yfinance) (1.3.5)\n",
      "Requirement already satisfied: multitasking>=0.0.7 in /usr/local/lib/python3.8/dist-packages (from yfinance) (0.0.11)\n",
      "Requirement already satisfied: cryptography>=3.3.2 in /usr/local/lib/python3.8/dist-packages (from yfinance) (39.0.1)\n",
      "Requirement already satisfied: soupsieve>1.2 in /usr/local/lib/python3.8/dist-packages (from beautifulsoup4>=4.11.1->yfinance) (2.4)\n",
      "Requirement already satisfied: cffi>=1.12 in /usr/local/lib/python3.8/dist-packages (from cryptography>=3.3.2->yfinance) (1.15.1)\n",
      "Requirement already satisfied: webencodings in /usr/local/lib/python3.8/dist-packages (from html5lib>=1.1->yfinance) (0.5.1)\n",
      "Requirement already satisfied: six>=1.9 in /usr/local/lib/python3.8/dist-packages (from html5lib>=1.1->yfinance) (1.15.0)\n",
      "Requirement already satisfied: python-dateutil>=2.7.3 in /usr/local/lib/python3.8/dist-packages (from pandas>=1.3.0->yfinance) (2.8.2)\n",
      "Requirement already satisfied: urllib3<1.27,>=1.21.1 in /usr/local/lib/python3.8/dist-packages (from requests>=2.26->yfinance) (1.24.3)\n",
      "Requirement already satisfied: charset-normalizer<4,>=2 in /usr/local/lib/python3.8/dist-packages (from requests>=2.26->yfinance) (3.0.1)\n",
      "Requirement already satisfied: certifi>=2017.4.17 in /usr/local/lib/python3.8/dist-packages (from requests>=2.26->yfinance) (2022.12.7)\n",
      "Requirement already satisfied: idna<4,>=2.5 in /usr/local/lib/python3.8/dist-packages (from requests>=2.26->yfinance) (2.10)\n",
      "Requirement already satisfied: pycparser in /usr/local/lib/python3.8/dist-packages (from cffi>=1.12->cryptography>=3.3.2->yfinance) (2.21)\n",
      "Looking in indexes: https://pypi.org/simple, https://us-python.pkg.dev/colab-wheels/public/simple/\n",
      "Requirement already satisfied: fredapi in /usr/local/lib/python3.8/dist-packages (0.5.0)\n",
      "Requirement already satisfied: pandas in /usr/local/lib/python3.8/dist-packages (from fredapi) (1.3.5)\n",
      "Requirement already satisfied: numpy>=1.17.3 in /usr/local/lib/python3.8/dist-packages (from pandas->fredapi) (1.22.4)\n",
      "Requirement already satisfied: python-dateutil>=2.7.3 in /usr/local/lib/python3.8/dist-packages (from pandas->fredapi) (2.8.2)\n",
      "Requirement already satisfied: pytz>=2017.3 in /usr/local/lib/python3.8/dist-packages (from pandas->fredapi) (2022.7.1)\n",
      "Requirement already satisfied: six>=1.5 in /usr/local/lib/python3.8/dist-packages (from python-dateutil>=2.7.3->pandas->fredapi) (1.15.0)\n"
     ]
    }
   ],
   "source": [
    "!pip install yfinance\n",
    "!pip install fredapi"
   ]
  },
  {
   "cell_type": "markdown",
   "id": "bYwRv3s9CHkU",
   "metadata": {
    "id": "bYwRv3s9CHkU"
   },
   "source": [
    "# Import libraries"
   ]
  },
  {
   "cell_type": "code",
   "execution_count": 62,
   "id": "qZeSm_fQCHJt",
   "metadata": {
    "id": "qZeSm_fQCHJt"
   },
   "outputs": [],
   "source": [
    "import pandas as pd\n",
    "import matplotlib.pyplot as plt\n",
    "import numpy as np\n",
    "import datetime\n",
    "import seaborn as sns\n",
    "import warnings\n",
    "import yfinance as yf\n",
    "import seaborn as sns\n",
    "from fredapi import Fred\n",
    "import statsmodels.api as sm"
   ]
  },
  {
   "cell_type": "markdown",
   "id": "ZfoTE_M9ASjH",
   "metadata": {
    "id": "ZfoTE_M9ASjH"
   },
   "source": [
    "# Accessing data and obtaining daily risk-free rate"
   ]
  },
  {
   "cell_type": "markdown",
   "id": "KtRQbJogtHnk",
   "metadata": {
    "id": "KtRQbJogtHnk"
   },
   "source": [
    "## Daily stock price data"
   ]
  },
  {
   "cell_type": "code",
   "execution_count": 63,
   "id": "6c583b0d",
   "metadata": {
    "colab": {
     "base_uri": "https://localhost:8080/",
     "height": 252
    },
    "id": "6c583b0d",
    "outputId": "223a055b-6fda-490f-a7e8-89649884e1c2"
   },
   "outputs": [
    {
     "name": "stdout",
     "output_type": "stream",
     "text": [
      "[*********************100%***********************]  3 of 3 completed\n"
     ]
    },
    {
     "data": {
      "text/html": [
       "\n",
       "  <div id=\"df-501b88a4-fa00-4a64-8a67-06bf0aa5e1aa\">\n",
       "    <div class=\"colab-df-container\">\n",
       "      <div>\n",
       "<style scoped>\n",
       "    .dataframe tbody tr th:only-of-type {\n",
       "        vertical-align: middle;\n",
       "    }\n",
       "\n",
       "    .dataframe tbody tr th {\n",
       "        vertical-align: top;\n",
       "    }\n",
       "\n",
       "    .dataframe thead th {\n",
       "        text-align: right;\n",
       "    }\n",
       "</style>\n",
       "<table border=\"1\" class=\"dataframe\">\n",
       "  <thead>\n",
       "    <tr style=\"text-align: right;\">\n",
       "      <th></th>\n",
       "      <th>AMZN</th>\n",
       "      <th>GOOGL</th>\n",
       "      <th>GSPC</th>\n",
       "    </tr>\n",
       "    <tr>\n",
       "      <th>Date</th>\n",
       "      <th></th>\n",
       "      <th></th>\n",
       "      <th></th>\n",
       "    </tr>\n",
       "  </thead>\n",
       "  <tbody>\n",
       "    <tr>\n",
       "      <th>2021-01-04</th>\n",
       "      <td>159.331497</td>\n",
       "      <td>86.306503</td>\n",
       "      <td>3700.649902</td>\n",
       "    </tr>\n",
       "    <tr>\n",
       "      <th>2021-01-05</th>\n",
       "      <td>160.925507</td>\n",
       "      <td>87.002502</td>\n",
       "      <td>3726.860107</td>\n",
       "    </tr>\n",
       "    <tr>\n",
       "      <th>2021-01-06</th>\n",
       "      <td>156.919006</td>\n",
       "      <td>86.143997</td>\n",
       "      <td>3748.139893</td>\n",
       "    </tr>\n",
       "    <tr>\n",
       "      <th>2021-01-07</th>\n",
       "      <td>158.108002</td>\n",
       "      <td>88.717003</td>\n",
       "      <td>3803.790039</td>\n",
       "    </tr>\n",
       "    <tr>\n",
       "      <th>2021-01-08</th>\n",
       "      <td>159.134995</td>\n",
       "      <td>89.891502</td>\n",
       "      <td>3824.679932</td>\n",
       "    </tr>\n",
       "  </tbody>\n",
       "</table>\n",
       "</div>\n",
       "      <button class=\"colab-df-convert\" onclick=\"convertToInteractive('df-501b88a4-fa00-4a64-8a67-06bf0aa5e1aa')\"\n",
       "              title=\"Convert this dataframe to an interactive table.\"\n",
       "              style=\"display:none;\">\n",
       "        \n",
       "  <svg xmlns=\"http://www.w3.org/2000/svg\" height=\"24px\"viewBox=\"0 0 24 24\"\n",
       "       width=\"24px\">\n",
       "    <path d=\"M0 0h24v24H0V0z\" fill=\"none\"/>\n",
       "    <path d=\"M18.56 5.44l.94 2.06.94-2.06 2.06-.94-2.06-.94-.94-2.06-.94 2.06-2.06.94zm-11 1L8.5 8.5l.94-2.06 2.06-.94-2.06-.94L8.5 2.5l-.94 2.06-2.06.94zm10 10l.94 2.06.94-2.06 2.06-.94-2.06-.94-.94-2.06-.94 2.06-2.06.94z\"/><path d=\"M17.41 7.96l-1.37-1.37c-.4-.4-.92-.59-1.43-.59-.52 0-1.04.2-1.43.59L10.3 9.45l-7.72 7.72c-.78.78-.78 2.05 0 2.83L4 21.41c.39.39.9.59 1.41.59.51 0 1.02-.2 1.41-.59l7.78-7.78 2.81-2.81c.8-.78.8-2.07 0-2.86zM5.41 20L4 18.59l7.72-7.72 1.47 1.35L5.41 20z\"/>\n",
       "  </svg>\n",
       "      </button>\n",
       "      \n",
       "  <style>\n",
       "    .colab-df-container {\n",
       "      display:flex;\n",
       "      flex-wrap:wrap;\n",
       "      gap: 12px;\n",
       "    }\n",
       "\n",
       "    .colab-df-convert {\n",
       "      background-color: #E8F0FE;\n",
       "      border: none;\n",
       "      border-radius: 50%;\n",
       "      cursor: pointer;\n",
       "      display: none;\n",
       "      fill: #1967D2;\n",
       "      height: 32px;\n",
       "      padding: 0 0 0 0;\n",
       "      width: 32px;\n",
       "    }\n",
       "\n",
       "    .colab-df-convert:hover {\n",
       "      background-color: #E2EBFA;\n",
       "      box-shadow: 0px 1px 2px rgba(60, 64, 67, 0.3), 0px 1px 3px 1px rgba(60, 64, 67, 0.15);\n",
       "      fill: #174EA6;\n",
       "    }\n",
       "\n",
       "    [theme=dark] .colab-df-convert {\n",
       "      background-color: #3B4455;\n",
       "      fill: #D2E3FC;\n",
       "    }\n",
       "\n",
       "    [theme=dark] .colab-df-convert:hover {\n",
       "      background-color: #434B5C;\n",
       "      box-shadow: 0px 1px 3px 1px rgba(0, 0, 0, 0.15);\n",
       "      filter: drop-shadow(0px 1px 2px rgba(0, 0, 0, 0.3));\n",
       "      fill: #FFFFFF;\n",
       "    }\n",
       "  </style>\n",
       "\n",
       "      <script>\n",
       "        const buttonEl =\n",
       "          document.querySelector('#df-501b88a4-fa00-4a64-8a67-06bf0aa5e1aa button.colab-df-convert');\n",
       "        buttonEl.style.display =\n",
       "          google.colab.kernel.accessAllowed ? 'block' : 'none';\n",
       "\n",
       "        async function convertToInteractive(key) {\n",
       "          const element = document.querySelector('#df-501b88a4-fa00-4a64-8a67-06bf0aa5e1aa');\n",
       "          const dataTable =\n",
       "            await google.colab.kernel.invokeFunction('convertToInteractive',\n",
       "                                                     [key], {});\n",
       "          if (!dataTable) return;\n",
       "\n",
       "          const docLinkHtml = 'Like what you see? Visit the ' +\n",
       "            '<a target=\"_blank\" href=https://colab.research.google.com/notebooks/data_table.ipynb>data table notebook</a>'\n",
       "            + ' to learn more about interactive tables.';\n",
       "          element.innerHTML = '';\n",
       "          dataTable['output_type'] = 'display_data';\n",
       "          await google.colab.output.renderOutput(dataTable, element);\n",
       "          const docLink = document.createElement('div');\n",
       "          docLink.innerHTML = docLinkHtml;\n",
       "          element.appendChild(docLink);\n",
       "        }\n",
       "      </script>\n",
       "    </div>\n",
       "  </div>\n",
       "  "
      ],
      "text/plain": [
       "                  AMZN      GOOGL         GSPC\n",
       "Date                                          \n",
       "2021-01-04  159.331497  86.306503  3700.649902\n",
       "2021-01-05  160.925507  87.002502  3726.860107\n",
       "2021-01-06  156.919006  86.143997  3748.139893\n",
       "2021-01-07  158.108002  88.717003  3803.790039\n",
       "2021-01-08  159.134995  89.891502  3824.679932"
      ]
     },
     "execution_count": 63,
     "metadata": {},
     "output_type": "execute_result"
    }
   ],
   "source": [
    "# Get closing stocks of Google and Amazon and a Market Index of S&P500\n",
    "stocks = ['^GSPC', 'GOOGL', 'AMZN']\n",
    "start = datetime.datetime(2021,1,1)   # start date\n",
    "end = datetime.datetime(2021,8,1)     # end date\n",
    "port = yf.download(stocks, start=start, end=end, interval='1d')['Close']\n",
    "\n",
    "# Rename column\n",
    "port = port.rename({'^GSPC':'GSPC'}, axis='columns')\n",
    "port.head()"
   ]
  },
  {
   "cell_type": "markdown",
   "id": "QUW3ZxyhtpaF",
   "metadata": {
    "id": "QUW3ZxyhtpaF"
   },
   "source": [
    "## Data analysis"
   ]
  },
  {
   "cell_type": "code",
   "execution_count": 64,
   "id": "0U-_roRVDK2t",
   "metadata": {
    "colab": {
     "base_uri": "https://localhost:8080/"
    },
    "id": "0U-_roRVDK2t",
    "outputId": "7d0ba4ad-4f4a-40ed-d3cb-95a6da7a462f"
   },
   "outputs": [
    {
     "data": {
      "text/plain": [
       "AMZN     0\n",
       "GOOGL    0\n",
       "GSPC     0\n",
       "dtype: int64"
      ]
     },
     "execution_count": 64,
     "metadata": {},
     "output_type": "execute_result"
    }
   ],
   "source": [
    "# Check null values\n",
    "port.isnull().sum()"
   ]
  },
  {
   "cell_type": "markdown",
   "id": "UuEtknset0sL",
   "metadata": {
    "id": "UuEtknset0sL"
   },
   "source": [
    "Stock prices has no null values"
   ]
  },
  {
   "cell_type": "code",
   "execution_count": 65,
   "id": "sNyYjWq8DPFK",
   "metadata": {
    "colab": {
     "base_uri": "https://localhost:8080/",
     "height": 297
    },
    "id": "sNyYjWq8DPFK",
    "outputId": "821b6e11-df83-47da-f1dc-b13b6b3b37a2"
   },
   "outputs": [
    {
     "data": {
      "text/html": [
       "\n",
       "  <div id=\"df-be726652-5788-4556-86ff-11b0b21dc86e\">\n",
       "    <div class=\"colab-df-container\">\n",
       "      <div>\n",
       "<style scoped>\n",
       "    .dataframe tbody tr th:only-of-type {\n",
       "        vertical-align: middle;\n",
       "    }\n",
       "\n",
       "    .dataframe tbody tr th {\n",
       "        vertical-align: top;\n",
       "    }\n",
       "\n",
       "    .dataframe thead th {\n",
       "        text-align: right;\n",
       "    }\n",
       "</style>\n",
       "<table border=\"1\" class=\"dataframe\">\n",
       "  <thead>\n",
       "    <tr style=\"text-align: right;\">\n",
       "      <th></th>\n",
       "      <th>AMZN</th>\n",
       "      <th>GOOGL</th>\n",
       "      <th>GSPC</th>\n",
       "    </tr>\n",
       "  </thead>\n",
       "  <tbody>\n",
       "    <tr>\n",
       "      <th>count</th>\n",
       "      <td>145.000000</td>\n",
       "      <td>145.000000</td>\n",
       "      <td>145.000000</td>\n",
       "    </tr>\n",
       "    <tr>\n",
       "      <th>mean</th>\n",
       "      <td>165.079876</td>\n",
       "      <td>110.883972</td>\n",
       "      <td>4075.962417</td>\n",
       "    </tr>\n",
       "    <tr>\n",
       "      <th>std</th>\n",
       "      <td>9.020308</td>\n",
       "      <td>12.245352</td>\n",
       "      <td>199.156546</td>\n",
       "    </tr>\n",
       "    <tr>\n",
       "      <th>min</th>\n",
       "      <td>147.597504</td>\n",
       "      <td>86.143997</td>\n",
       "      <td>3700.649902</td>\n",
       "    </tr>\n",
       "    <tr>\n",
       "      <th>25%</th>\n",
       "      <td>158.294495</td>\n",
       "      <td>102.323502</td>\n",
       "      <td>3901.820068</td>\n",
       "    </tr>\n",
       "    <tr>\n",
       "      <th>50%</th>\n",
       "      <td>163.969498</td>\n",
       "      <td>113.123497</td>\n",
       "      <td>4128.799805</td>\n",
       "    </tr>\n",
       "    <tr>\n",
       "      <th>75%</th>\n",
       "      <td>170.000000</td>\n",
       "      <td>120.114998</td>\n",
       "      <td>4224.790039</td>\n",
       "    </tr>\n",
       "    <tr>\n",
       "      <th>max</th>\n",
       "      <td>186.570496</td>\n",
       "      <td>136.093994</td>\n",
       "      <td>4422.299805</td>\n",
       "    </tr>\n",
       "  </tbody>\n",
       "</table>\n",
       "</div>\n",
       "      <button class=\"colab-df-convert\" onclick=\"convertToInteractive('df-be726652-5788-4556-86ff-11b0b21dc86e')\"\n",
       "              title=\"Convert this dataframe to an interactive table.\"\n",
       "              style=\"display:none;\">\n",
       "        \n",
       "  <svg xmlns=\"http://www.w3.org/2000/svg\" height=\"24px\"viewBox=\"0 0 24 24\"\n",
       "       width=\"24px\">\n",
       "    <path d=\"M0 0h24v24H0V0z\" fill=\"none\"/>\n",
       "    <path d=\"M18.56 5.44l.94 2.06.94-2.06 2.06-.94-2.06-.94-.94-2.06-.94 2.06-2.06.94zm-11 1L8.5 8.5l.94-2.06 2.06-.94-2.06-.94L8.5 2.5l-.94 2.06-2.06.94zm10 10l.94 2.06.94-2.06 2.06-.94-2.06-.94-.94-2.06-.94 2.06-2.06.94z\"/><path d=\"M17.41 7.96l-1.37-1.37c-.4-.4-.92-.59-1.43-.59-.52 0-1.04.2-1.43.59L10.3 9.45l-7.72 7.72c-.78.78-.78 2.05 0 2.83L4 21.41c.39.39.9.59 1.41.59.51 0 1.02-.2 1.41-.59l7.78-7.78 2.81-2.81c.8-.78.8-2.07 0-2.86zM5.41 20L4 18.59l7.72-7.72 1.47 1.35L5.41 20z\"/>\n",
       "  </svg>\n",
       "      </button>\n",
       "      \n",
       "  <style>\n",
       "    .colab-df-container {\n",
       "      display:flex;\n",
       "      flex-wrap:wrap;\n",
       "      gap: 12px;\n",
       "    }\n",
       "\n",
       "    .colab-df-convert {\n",
       "      background-color: #E8F0FE;\n",
       "      border: none;\n",
       "      border-radius: 50%;\n",
       "      cursor: pointer;\n",
       "      display: none;\n",
       "      fill: #1967D2;\n",
       "      height: 32px;\n",
       "      padding: 0 0 0 0;\n",
       "      width: 32px;\n",
       "    }\n",
       "\n",
       "    .colab-df-convert:hover {\n",
       "      background-color: #E2EBFA;\n",
       "      box-shadow: 0px 1px 2px rgba(60, 64, 67, 0.3), 0px 1px 3px 1px rgba(60, 64, 67, 0.15);\n",
       "      fill: #174EA6;\n",
       "    }\n",
       "\n",
       "    [theme=dark] .colab-df-convert {\n",
       "      background-color: #3B4455;\n",
       "      fill: #D2E3FC;\n",
       "    }\n",
       "\n",
       "    [theme=dark] .colab-df-convert:hover {\n",
       "      background-color: #434B5C;\n",
       "      box-shadow: 0px 1px 3px 1px rgba(0, 0, 0, 0.15);\n",
       "      filter: drop-shadow(0px 1px 2px rgba(0, 0, 0, 0.3));\n",
       "      fill: #FFFFFF;\n",
       "    }\n",
       "  </style>\n",
       "\n",
       "      <script>\n",
       "        const buttonEl =\n",
       "          document.querySelector('#df-be726652-5788-4556-86ff-11b0b21dc86e button.colab-df-convert');\n",
       "        buttonEl.style.display =\n",
       "          google.colab.kernel.accessAllowed ? 'block' : 'none';\n",
       "\n",
       "        async function convertToInteractive(key) {\n",
       "          const element = document.querySelector('#df-be726652-5788-4556-86ff-11b0b21dc86e');\n",
       "          const dataTable =\n",
       "            await google.colab.kernel.invokeFunction('convertToInteractive',\n",
       "                                                     [key], {});\n",
       "          if (!dataTable) return;\n",
       "\n",
       "          const docLinkHtml = 'Like what you see? Visit the ' +\n",
       "            '<a target=\"_blank\" href=https://colab.research.google.com/notebooks/data_table.ipynb>data table notebook</a>'\n",
       "            + ' to learn more about interactive tables.';\n",
       "          element.innerHTML = '';\n",
       "          dataTable['output_type'] = 'display_data';\n",
       "          await google.colab.output.renderOutput(dataTable, element);\n",
       "          const docLink = document.createElement('div');\n",
       "          docLink.innerHTML = docLinkHtml;\n",
       "          element.appendChild(docLink);\n",
       "        }\n",
       "      </script>\n",
       "    </div>\n",
       "  </div>\n",
       "  "
      ],
      "text/plain": [
       "             AMZN       GOOGL         GSPC\n",
       "count  145.000000  145.000000   145.000000\n",
       "mean   165.079876  110.883972  4075.962417\n",
       "std      9.020308   12.245352   199.156546\n",
       "min    147.597504   86.143997  3700.649902\n",
       "25%    158.294495  102.323502  3901.820068\n",
       "50%    163.969498  113.123497  4128.799805\n",
       "75%    170.000000  120.114998  4224.790039\n",
       "max    186.570496  136.093994  4422.299805"
      ]
     },
     "execution_count": 65,
     "metadata": {},
     "output_type": "execute_result"
    }
   ],
   "source": [
    "# Summary statistics\n",
    "port.describe()"
   ]
  },
  {
   "cell_type": "code",
   "execution_count": 66,
   "id": "zIP0Fi1PxFYd",
   "metadata": {
    "colab": {
     "base_uri": "https://localhost:8080/",
     "height": 349
    },
    "id": "zIP0Fi1PxFYd",
    "outputId": "7c476659-c905-41cf-a207-8b0b0cad656a"
   },
   "outputs": [
    {
     "data": {
      "text/plain": [
       "array([[<AxesSubplot:title={'center':'AMZN'}>,\n",
       "        <AxesSubplot:title={'center':'GOOGL'}>],\n",
       "       [<AxesSubplot:title={'center':'GSPC'}>, <AxesSubplot:>]],\n",
       "      dtype=object)"
      ]
     },
     "execution_count": 66,
     "metadata": {},
     "output_type": "execute_result"
    },
    {
     "data": {
      "image/png": "[encoded data removed]",
      "text/plain": [
       "<Figure size 432x288 with 4 Axes>"
      ]
     },
     "metadata": {
      "needs_background": "light"
     },
     "output_type": "display_data"
    }
   ],
   "source": [
    "# Histogram of stocks prices\n",
    "port.hist()"
   ]
  },
  {
   "cell_type": "markdown",
   "id": "U-FqJQ6It9Fu",
   "metadata": {
    "id": "U-FqJQ6It9Fu"
   },
   "source": [
    "We have total 145 closing stock prices.\n",
    "<br>Amazon has a mean of 165.08 and median of 163.97 dollars\n",
    "<br>Google has a mean of 110.88 and median of 113.12 dollars"
   ]
  },
  {
   "cell_type": "markdown",
   "id": "HwLOo5Yav9g_",
   "metadata": {
    "id": "HwLOo5Yav9g_"
   },
   "source": [
    "## Calculate Risk Free Rate"
   ]
  },
  {
   "cell_type": "code",
   "execution_count": 67,
   "id": "gtn_cR1sEh-b",
   "metadata": {
    "colab": {
     "base_uri": "https://localhost:8080/",
     "height": 741
    },
    "id": "gtn_cR1sEh-b",
    "outputId": "56455d1a-c8b1-46b0-a0e8-51a8701d9cad"
   },
   "outputs": [
    {
     "data": {
      "text/html": [
       "\n",
       "  <div id=\"df-9807a639-cadc-4e55-9a36-c91dbec2f0c2\">\n",
       "    <div class=\"colab-df-container\">\n",
       "      <div>\n",
       "<style scoped>\n",
       "    .dataframe tbody tr th:only-of-type {\n",
       "        vertical-align: middle;\n",
       "    }\n",
       "\n",
       "    .dataframe tbody tr th {\n",
       "        vertical-align: top;\n",
       "    }\n",
       "\n",
       "    .dataframe thead th {\n",
       "        text-align: right;\n",
       "    }\n",
       "</style>\n",
       "<table border=\"1\" class=\"dataframe\">\n",
       "  <thead>\n",
       "    <tr style=\"text-align: right;\">\n",
       "      <th></th>\n",
       "      <th>id</th>\n",
       "      <th>realtime_start</th>\n",
       "      <th>realtime_end</th>\n",
       "      <th>title</th>\n",
       "      <th>observation_start</th>\n",
       "      <th>observation_end</th>\n",
       "      <th>frequency</th>\n",
       "      <th>frequency_short</th>\n",
       "      <th>units</th>\n",
       "      <th>units_short</th>\n",
       "      <th>seasonal_adjustment</th>\n",
       "      <th>seasonal_adjustment_short</th>\n",
       "      <th>last_updated</th>\n",
       "      <th>popularity</th>\n",
       "      <th>notes</th>\n",
       "    </tr>\n",
       "    <tr>\n",
       "      <th>series id</th>\n",
       "      <th></th>\n",
       "      <th></th>\n",
       "      <th></th>\n",
       "      <th></th>\n",
       "      <th></th>\n",
       "      <th></th>\n",
       "      <th></th>\n",
       "      <th></th>\n",
       "      <th></th>\n",
       "      <th></th>\n",
       "      <th></th>\n",
       "      <th></th>\n",
       "      <th></th>\n",
       "      <th></th>\n",
       "      <th></th>\n",
       "    </tr>\n",
       "  </thead>\n",
       "  <tbody>\n",
       "    <tr>\n",
       "      <th>DGS10</th>\n",
       "      <td>DGS10</td>\n",
       "      <td>2023-02-27</td>\n",
       "      <td>2023-02-27</td>\n",
       "      <td>Market Yield on U.S. Treasury Securities at 10...</td>\n",
       "      <td>1962-01-02</td>\n",
       "      <td>2023-02-24</td>\n",
       "      <td>Daily</td>\n",
       "      <td>D</td>\n",
       "      <td>Percent</td>\n",
       "      <td>%</td>\n",
       "      <td>Not Seasonally Adjusted</td>\n",
       "      <td>NSA</td>\n",
       "      <td>2023-02-27 15:22:03-06:00</td>\n",
       "      <td>92</td>\n",
       "      <td>For further information regarding treasury con...</td>\n",
       "    </tr>\n",
       "    <tr>\n",
       "      <th>GS10</th>\n",
       "      <td>GS10</td>\n",
       "      <td>2023-02-27</td>\n",
       "      <td>2023-02-27</td>\n",
       "      <td>Market Yield on U.S. Treasury Securities at 10...</td>\n",
       "      <td>1953-04-01</td>\n",
       "      <td>2023-01-01</td>\n",
       "      <td>Monthly</td>\n",
       "      <td>M</td>\n",
       "      <td>Percent</td>\n",
       "      <td>%</td>\n",
       "      <td>Not Seasonally Adjusted</td>\n",
       "      <td>NSA</td>\n",
       "      <td>2023-02-01 15:21:11-06:00</td>\n",
       "      <td>73</td>\n",
       "      <td>Averages of business days. For further informa...</td>\n",
       "    </tr>\n",
       "    <tr>\n",
       "      <th>WGS10YR</th>\n",
       "      <td>WGS10YR</td>\n",
       "      <td>2023-02-27</td>\n",
       "      <td>2023-02-27</td>\n",
       "      <td>Market Yield on U.S. Treasury Securities at 10...</td>\n",
       "      <td>1962-01-05</td>\n",
       "      <td>2023-02-24</td>\n",
       "      <td>Weekly, Ending Friday</td>\n",
       "      <td>W</td>\n",
       "      <td>Percent</td>\n",
       "      <td>%</td>\n",
       "      <td>Not Seasonally Adjusted</td>\n",
       "      <td>NSA</td>\n",
       "      <td>2023-02-27 15:18:02-06:00</td>\n",
       "      <td>54</td>\n",
       "      <td>Averages of business days. For further informa...</td>\n",
       "    </tr>\n",
       "    <tr>\n",
       "      <th>DGS2</th>\n",
       "      <td>DGS2</td>\n",
       "      <td>2023-02-27</td>\n",
       "      <td>2023-02-27</td>\n",
       "      <td>Market Yield on U.S. Treasury Securities at 2-...</td>\n",
       "      <td>1976-06-01</td>\n",
       "      <td>2023-02-24</td>\n",
       "      <td>Daily</td>\n",
       "      <td>D</td>\n",
       "      <td>Percent</td>\n",
       "      <td>%</td>\n",
       "      <td>Not Seasonally Adjusted</td>\n",
       "      <td>NSA</td>\n",
       "      <td>2023-02-27 15:22:07-06:00</td>\n",
       "      <td>81</td>\n",
       "      <td>For further information regarding treasury con...</td>\n",
       "    </tr>\n",
       "    <tr>\n",
       "      <th>DGS1</th>\n",
       "      <td>DGS1</td>\n",
       "      <td>2023-02-27</td>\n",
       "      <td>2023-02-27</td>\n",
       "      <td>Market Yield on U.S. Treasury Securities at 1-...</td>\n",
       "      <td>1962-01-02</td>\n",
       "      <td>2023-02-24</td>\n",
       "      <td>Daily</td>\n",
       "      <td>D</td>\n",
       "      <td>Percent</td>\n",
       "      <td>%</td>\n",
       "      <td>Not Seasonally Adjusted</td>\n",
       "      <td>NSA</td>\n",
       "      <td>2023-02-27 15:22:02-06:00</td>\n",
       "      <td>80</td>\n",
       "      <td>For further information regarding treasury con...</td>\n",
       "    </tr>\n",
       "  </tbody>\n",
       "</table>\n",
       "</div>\n",
       "      <button class=\"colab-df-convert\" onclick=\"convertToInteractive('df-9807a639-cadc-4e55-9a36-c91dbec2f0c2')\"\n",
       "              title=\"Convert this dataframe to an interactive table.\"\n",
       "              style=\"display:none;\">\n",
       "        \n",
       "  <svg xmlns=\"http://www.w3.org/2000/svg\" height=\"24px\"viewBox=\"0 0 24 24\"\n",
       "       width=\"24px\">\n",
       "    <path d=\"M0 0h24v24H0V0z\" fill=\"none\"/>\n",
       "    <path d=\"M18.56 5.44l.94 2.06.94-2.06 2.06-.94-2.06-.94-.94-2.06-.94 2.06-2.06.94zm-11 1L8.5 8.5l.94-2.06 2.06-.94-2.06-.94L8.5 2.5l-.94 2.06-2.06.94zm10 10l.94 2.06.94-2.06 2.06-.94-2.06-.94-.94-2.06-.94 2.06-2.06.94z\"/><path d=\"M17.41 7.96l-1.37-1.37c-.4-.4-.92-.59-1.43-.59-.52 0-1.04.2-1.43.59L10.3 9.45l-7.72 7.72c-.78.78-.78 2.05 0 2.83L4 21.41c.39.39.9.59 1.41.59.51 0 1.02-.2 1.41-.59l7.78-7.78 2.81-2.81c.8-.78.8-2.07 0-2.86zM5.41 20L4 18.59l7.72-7.72 1.47 1.35L5.41 20z\"/>\n",
       "  </svg>\n",
       "      </button>\n",
       "      \n",
       "  <style>\n",
       "    .colab-df-container {\n",
       "      display:flex;\n",
       "      flex-wrap:wrap;\n",
       "      gap: 12px;\n",
       "    }\n",
       "\n",
       "    .colab-df-convert {\n",
       "      background-color: #E8F0FE;\n",
       "      border: none;\n",
       "      border-radius: 50%;\n",
       "      cursor: pointer;\n",
       "      display: none;\n",
       "      fill: #1967D2;\n",
       "      height: 32px;\n",
       "      padding: 0 0 0 0;\n",
       "      width: 32px;\n",
       "    }\n",
       "\n",
       "    .colab-df-convert:hover {\n",
       "      background-color: #E2EBFA;\n",
       "      box-shadow: 0px 1px 2px rgba(60, 64, 67, 0.3), 0px 1px 3px 1px rgba(60, 64, 67, 0.15);\n",
       "      fill: #174EA6;\n",
       "    }\n",
       "\n",
       "    [theme=dark] .colab-df-convert {\n",
       "      background-color: #3B4455;\n",
       "      fill: #D2E3FC;\n",
       "    }\n",
       "\n",
       "    [theme=dark] .colab-df-convert:hover {\n",
       "      background-color: #434B5C;\n",
       "      box-shadow: 0px 1px 3px 1px rgba(0, 0, 0, 0.15);\n",
       "      filter: drop-shadow(0px 1px 2px rgba(0, 0, 0, 0.3));\n",
       "      fill: #FFFFFF;\n",
       "    }\n",
       "  </style>\n",
       "\n",
       "      <script>\n",
       "        const buttonEl =\n",
       "          document.querySelector('#df-9807a639-cadc-4e55-9a36-c91dbec2f0c2 button.colab-df-convert');\n",
       "        buttonEl.style.display =\n",
       "          google.colab.kernel.accessAllowed ? 'block' : 'none';\n",
       "\n",
       "        async function convertToInteractive(key) {\n",
       "          const element = document.querySelector('#df-9807a639-cadc-4e55-9a36-c91dbec2f0c2');\n",
       "          const dataTable =\n",
       "            await google.colab.kernel.invokeFunction('convertToInteractive',\n",
       "                                                     [key], {});\n",
       "          if (!dataTable) return;\n",
       "\n",
       "          const docLinkHtml = 'Like what you see? Visit the ' +\n",
       "            '<a target=\"_blank\" href=https://colab.research.google.com/notebooks/data_table.ipynb>data table notebook</a>'\n",
       "            + ' to learn more about interactive tables.';\n",
       "          element.innerHTML = '';\n",
       "          dataTable['output_type'] = 'display_data';\n",
       "          await google.colab.output.renderOutput(dataTable, element);\n",
       "          const docLink = document.createElement('div');\n",
       "          docLink.innerHTML = docLinkHtml;\n",
       "          element.appendChild(docLink);\n",
       "        }\n",
       "      </script>\n",
       "    </div>\n",
       "  </div>\n",
       "  "
      ],
      "text/plain": [
       "                id realtime_start realtime_end  \\\n",
       "series id                                        \n",
       "DGS10        DGS10     2023-02-27   2023-02-27   \n",
       "GS10          GS10     2023-02-27   2023-02-27   \n",
       "WGS10YR    WGS10YR     2023-02-27   2023-02-27   \n",
       "DGS2          DGS2     2023-02-27   2023-02-27   \n",
       "DGS1          DGS1     2023-02-27   2023-02-27   \n",
       "\n",
       "                                                       title  \\\n",
       "series id                                                      \n",
       "DGS10      Market Yield on U.S. Treasury Securities at 10...   \n",
       "GS10       Market Yield on U.S. Treasury Securities at 10...   \n",
       "WGS10YR    Market Yield on U.S. Treasury Securities at 10...   \n",
       "DGS2       Market Yield on U.S. Treasury Securities at 2-...   \n",
       "DGS1       Market Yield on U.S. Treasury Securities at 1-...   \n",
       "\n",
       "          observation_start observation_end              frequency  \\\n",
       "series id                                                            \n",
       "DGS10            1962-01-02      2023-02-24                  Daily   \n",
       "GS10             1953-04-01      2023-01-01                Monthly   \n",
       "WGS10YR          1962-01-05      2023-02-24  Weekly, Ending Friday   \n",
       "DGS2             1976-06-01      2023-02-24                  Daily   \n",
       "DGS1             1962-01-02      2023-02-24                  Daily   \n",
       "\n",
       "          frequency_short    units units_short      seasonal_adjustment  \\\n",
       "series id                                                                 \n",
       "DGS10                   D  Percent           %  Not Seasonally Adjusted   \n",
       "GS10                    M  Percent           %  Not Seasonally Adjusted   \n",
       "WGS10YR                 W  Percent           %  Not Seasonally Adjusted   \n",
       "DGS2                    D  Percent           %  Not Seasonally Adjusted   \n",
       "DGS1                    D  Percent           %  Not Seasonally Adjusted   \n",
       "\n",
       "          seasonal_adjustment_short               last_updated popularity  \\\n",
       "series id                                                                   \n",
       "DGS10                           NSA  2023-02-27 15:22:03-06:00         92   \n",
       "GS10                            NSA  2023-02-01 15:21:11-06:00         73   \n",
       "WGS10YR                         NSA  2023-02-27 15:18:02-06:00         54   \n",
       "DGS2                            NSA  2023-02-27 15:22:07-06:00         81   \n",
       "DGS1                            NSA  2023-02-27 15:22:02-06:00         80   \n",
       "\n",
       "                                                       notes  \n",
       "series id                                                     \n",
       "DGS10      For further information regarding treasury con...  \n",
       "GS10       Averages of business days. For further informa...  \n",
       "WGS10YR    Averages of business days. For further informa...  \n",
       "DGS2       For further information regarding treasury con...  \n",
       "DGS1       For further information regarding treasury con...  "
      ]
     },
     "execution_count": 67,
     "metadata": {},
     "output_type": "execute_result"
    }
   ],
   "source": [
    "# Connect fred api and calculate the risk free rate \n",
    "fred = Fred(api_key='2fd222cbf44393649cff4b4beb4fc179')\n",
    "fred.search('risk free').head()"
   ]
  },
  {
   "cell_type": "code",
   "execution_count": 68,
   "id": "iOnWDRY2E6ig",
   "metadata": {
    "colab": {
     "base_uri": "https://localhost:8080/"
    },
    "id": "iOnWDRY2E6ig",
    "outputId": "87cc519c-9e60-4cb9-b30d-2df5807d20b0"
   },
   "outputs": [
    {
     "data": {
      "text/plain": [
       "2021-01-04    0.09\n",
       "2021-01-05    0.09\n",
       "2021-01-06    0.09\n",
       "2021-01-07    0.09\n",
       "2021-01-08    0.08\n",
       "              ... \n",
       "2021-07-26    0.05\n",
       "2021-07-27    0.05\n",
       "2021-07-28    0.05\n",
       "2021-07-29    0.06\n",
       "2021-07-30    0.06\n",
       "Length: 146, dtype: float64"
      ]
     },
     "execution_count": 68,
     "metadata": {},
     "output_type": "execute_result"
    }
   ],
   "source": [
    "# Select 3-Month Treasury Constant Maturity Rate\n",
    "risk_free = fred.get_series('DGS3MO')\n",
    "risk_free = risk_free['2021-01-01':'2021-08-01']\n",
    "\n",
    "# Drop null values\n",
    "risk_free = risk_free.dropna()\n",
    "risk_free"
   ]
  },
  {
   "cell_type": "markdown",
   "id": "5r42UGIHG_E6",
   "metadata": {
    "id": "5r42UGIHG_E6"
   },
   "source": [
    "# Correlation and Stock/Market returns"
   ]
  },
  {
   "cell_type": "markdown",
   "id": "pOleJriAwVPm",
   "metadata": {
    "id": "pOleJriAwVPm"
   },
   "source": [
    "## Stocks and market index trend"
   ]
  },
  {
   "cell_type": "code",
   "execution_count": 69,
   "id": "tWnMGhlcFRLW",
   "metadata": {
    "colab": {
     "base_uri": "https://localhost:8080/",
     "height": 371
    },
    "id": "tWnMGhlcFRLW",
    "outputId": "0997666a-026d-4c45-c330-0fb8cb443181"
   },
   "outputs": [
    {
     "data": {
      "image/png": "[encoded data removed]",
      "text/plain": [
       "<Figure size 720x432 with 1 Axes>"
      ]
     },
     "metadata": {
      "needs_background": "light"
     },
     "output_type": "display_data"
    },
    {
     "data": {
      "image/png": "[encoded data removed]",
      "text/plain": [
       "<Figure size 720x432 with 1 Axes>"
      ]
     },
     "metadata": {
      "needs_background": "light"
     },
     "output_type": "display_data"
    },
    {
     "data": {
      "image/png": "[encoded data removed]",
      "text/plain": [
       "<Figure size 720x432 with 1 Axes>"
      ]
     },
     "metadata": {
      "needs_background": "light"
     },
     "output_type": "display_data"
    }
   ],
   "source": [
    "# Show trend of Amazon/Google stocks and MarketIndex\n",
    "for i, stock in enumerate(port.columns, start=1):\n",
    "    plt.figure(figsize=(10,6))\n",
    "    plt.subplot(4, 1, i)\n",
    "    plt.plot(port[stock])\n",
    "    plt.title(f'{stock}')\n",
    "    plt.show()"
   ]
  },
  {
   "cell_type": "markdown",
   "id": "tmWURSyDw3Tz",
   "metadata": {
    "id": "tmWURSyDw3Tz"
   },
   "source": [
    "Google and MarketIndex (GSPC) trends to increase always and Amazon with ups and downs"
   ]
  },
  {
   "cell_type": "markdown",
   "id": "W3Hugb5R1MwU",
   "metadata": {
    "id": "W3Hugb5R1MwU"
   },
   "source": [
    "## Correlation"
   ]
  },
  {
   "cell_type": "code",
   "execution_count": 70,
   "id": "gwDxcaj0FqFW",
   "metadata": {
    "colab": {
     "base_uri": "https://localhost:8080/",
     "height": 142
    },
    "id": "gwDxcaj0FqFW",
    "outputId": "0283d74f-8de6-4cb5-8461-3cef16bd0a00"
   },
   "outputs": [
    {
     "data": {
      "text/html": [
       "\n",
       "  <div id=\"df-0371030f-0be9-405e-b00a-15a111efad4e\">\n",
       "    <div class=\"colab-df-container\">\n",
       "      <div>\n",
       "<style scoped>\n",
       "    .dataframe tbody tr th:only-of-type {\n",
       "        vertical-align: middle;\n",
       "    }\n",
       "\n",
       "    .dataframe tbody tr th {\n",
       "        vertical-align: top;\n",
       "    }\n",
       "\n",
       "    .dataframe thead th {\n",
       "        text-align: right;\n",
       "    }\n",
       "</style>\n",
       "<table border=\"1\" class=\"dataframe\">\n",
       "  <thead>\n",
       "    <tr style=\"text-align: right;\">\n",
       "      <th></th>\n",
       "      <th>AMZN</th>\n",
       "      <th>GOOGL</th>\n",
       "      <th>GSPC</th>\n",
       "    </tr>\n",
       "  </thead>\n",
       "  <tbody>\n",
       "    <tr>\n",
       "      <th>AMZN</th>\n",
       "      <td>1.000000</td>\n",
       "      <td>0.732543</td>\n",
       "      <td>0.752466</td>\n",
       "    </tr>\n",
       "    <tr>\n",
       "      <th>GOOGL</th>\n",
       "      <td>0.732543</td>\n",
       "      <td>1.000000</td>\n",
       "      <td>0.970346</td>\n",
       "    </tr>\n",
       "    <tr>\n",
       "      <th>GSPC</th>\n",
       "      <td>0.752466</td>\n",
       "      <td>0.970346</td>\n",
       "      <td>1.000000</td>\n",
       "    </tr>\n",
       "  </tbody>\n",
       "</table>\n",
       "</div>\n",
       "      <button class=\"colab-df-convert\" onclick=\"convertToInteractive('df-0371030f-0be9-405e-b00a-15a111efad4e')\"\n",
       "              title=\"Convert this dataframe to an interactive table.\"\n",
       "              style=\"display:none;\">\n",
       "        \n",
       "  <svg xmlns=\"http://www.w3.org/2000/svg\" height=\"24px\"viewBox=\"0 0 24 24\"\n",
       "       width=\"24px\">\n",
       "    <path d=\"M0 0h24v24H0V0z\" fill=\"none\"/>\n",
       "    <path d=\"M18.56 5.44l.94 2.06.94-2.06 2.06-.94-2.06-.94-.94-2.06-.94 2.06-2.06.94zm-11 1L8.5 8.5l.94-2.06 2.06-.94-2.06-.94L8.5 2.5l-.94 2.06-2.06.94zm10 10l.94 2.06.94-2.06 2.06-.94-2.06-.94-.94-2.06-.94 2.06-2.06.94z\"/><path d=\"M17.41 7.96l-1.37-1.37c-.4-.4-.92-.59-1.43-.59-.52 0-1.04.2-1.43.59L10.3 9.45l-7.72 7.72c-.78.78-.78 2.05 0 2.83L4 21.41c.39.39.9.59 1.41.59.51 0 1.02-.2 1.41-.59l7.78-7.78 2.81-2.81c.8-.78.8-2.07 0-2.86zM5.41 20L4 18.59l7.72-7.72 1.47 1.35L5.41 20z\"/>\n",
       "  </svg>\n",
       "      </button>\n",
       "      \n",
       "  <style>\n",
       "    .colab-df-container {\n",
       "      display:flex;\n",
       "      flex-wrap:wrap;\n",
       "      gap: 12px;\n",
       "    }\n",
       "\n",
       "    .colab-df-convert {\n",
       "      background-color: #E8F0FE;\n",
       "      border: none;\n",
       "      border-radius: 50%;\n",
       "      cursor: pointer;\n",
       "      display: none;\n",
       "      fill: #1967D2;\n",
       "      height: 32px;\n",
       "      padding: 0 0 0 0;\n",
       "      width: 32px;\n",
       "    }\n",
       "\n",
       "    .colab-df-convert:hover {\n",
       "      background-color: #E2EBFA;\n",
       "      box-shadow: 0px 1px 2px rgba(60, 64, 67, 0.3), 0px 1px 3px 1px rgba(60, 64, 67, 0.15);\n",
       "      fill: #174EA6;\n",
       "    }\n",
       "\n",
       "    [theme=dark] .colab-df-convert {\n",
       "      background-color: #3B4455;\n",
       "      fill: #D2E3FC;\n",
       "    }\n",
       "\n",
       "    [theme=dark] .colab-df-convert:hover {\n",
       "      background-color: #434B5C;\n",
       "      box-shadow: 0px 1px 3px 1px rgba(0, 0, 0, 0.15);\n",
       "      filter: drop-shadow(0px 1px 2px rgba(0, 0, 0, 0.3));\n",
       "      fill: #FFFFFF;\n",
       "    }\n",
       "  </style>\n",
       "\n",
       "      <script>\n",
       "        const buttonEl =\n",
       "          document.querySelector('#df-0371030f-0be9-405e-b00a-15a111efad4e button.colab-df-convert');\n",
       "        buttonEl.style.display =\n",
       "          google.colab.kernel.accessAllowed ? 'block' : 'none';\n",
       "\n",
       "        async function convertToInteractive(key) {\n",
       "          const element = document.querySelector('#df-0371030f-0be9-405e-b00a-15a111efad4e');\n",
       "          const dataTable =\n",
       "            await google.colab.kernel.invokeFunction('convertToInteractive',\n",
       "                                                     [key], {});\n",
       "          if (!dataTable) return;\n",
       "\n",
       "          const docLinkHtml = 'Like what you see? Visit the ' +\n",
       "            '<a target=\"_blank\" href=https://colab.research.google.com/notebooks/data_table.ipynb>data table notebook</a>'\n",
       "            + ' to learn more about interactive tables.';\n",
       "          element.innerHTML = '';\n",
       "          dataTable['output_type'] = 'display_data';\n",
       "          await google.colab.output.renderOutput(dataTable, element);\n",
       "          const docLink = document.createElement('div');\n",
       "          docLink.innerHTML = docLinkHtml;\n",
       "          element.appendChild(docLink);\n",
       "        }\n",
       "      </script>\n",
       "    </div>\n",
       "  </div>\n",
       "  "
      ],
      "text/plain": [
       "           AMZN     GOOGL      GSPC\n",
       "AMZN   1.000000  0.732543  0.752466\n",
       "GOOGL  0.732543  1.000000  0.970346\n",
       "GSPC   0.752466  0.970346  1.000000"
      ]
     },
     "execution_count": 70,
     "metadata": {},
     "output_type": "execute_result"
    }
   ],
   "source": [
    "# Correlation matrix\n",
    "port.corr() "
   ]
  },
  {
   "cell_type": "markdown",
   "id": "NuYOrZ5i0p2i",
   "metadata": {
    "id": "NuYOrZ5i0p2i"
   },
   "source": [
    "## Calculate stock returns"
   ]
  },
  {
   "cell_type": "code",
   "execution_count": 71,
   "id": "BLKhMX8SGBDx",
   "metadata": {
    "colab": {
     "base_uri": "https://localhost:8080/",
     "height": 235
    },
    "id": "BLKhMX8SGBDx",
    "outputId": "04f19af2-f48d-47fa-eebd-efe4bbdf6614"
   },
   "outputs": [
    {
     "data": {
      "text/html": [
       "\n",
       "  <div id=\"df-75e5246a-3b2d-40ea-929c-f79bcb26d57c\">\n",
       "    <div class=\"colab-df-container\">\n",
       "      <div>\n",
       "<style scoped>\n",
       "    .dataframe tbody tr th:only-of-type {\n",
       "        vertical-align: middle;\n",
       "    }\n",
       "\n",
       "    .dataframe tbody tr th {\n",
       "        vertical-align: top;\n",
       "    }\n",
       "\n",
       "    .dataframe thead th {\n",
       "        text-align: right;\n",
       "    }\n",
       "</style>\n",
       "<table border=\"1\" class=\"dataframe\">\n",
       "  <thead>\n",
       "    <tr style=\"text-align: right;\">\n",
       "      <th></th>\n",
       "      <th>AMZN</th>\n",
       "      <th>GOOGL</th>\n",
       "      <th>GSPC</th>\n",
       "    </tr>\n",
       "    <tr>\n",
       "      <th>Date</th>\n",
       "      <th></th>\n",
       "      <th></th>\n",
       "      <th></th>\n",
       "    </tr>\n",
       "  </thead>\n",
       "  <tbody>\n",
       "    <tr>\n",
       "      <th>2021-01-05</th>\n",
       "      <td>0.010004</td>\n",
       "      <td>0.008064</td>\n",
       "      <td>0.007083</td>\n",
       "    </tr>\n",
       "    <tr>\n",
       "      <th>2021-01-06</th>\n",
       "      <td>-0.024897</td>\n",
       "      <td>-0.009868</td>\n",
       "      <td>0.005710</td>\n",
       "    </tr>\n",
       "    <tr>\n",
       "      <th>2021-01-07</th>\n",
       "      <td>0.007577</td>\n",
       "      <td>0.029869</td>\n",
       "      <td>0.014847</td>\n",
       "    </tr>\n",
       "    <tr>\n",
       "      <th>2021-01-08</th>\n",
       "      <td>0.006496</td>\n",
       "      <td>0.013239</td>\n",
       "      <td>0.005492</td>\n",
       "    </tr>\n",
       "    <tr>\n",
       "      <th>2021-01-11</th>\n",
       "      <td>-0.021519</td>\n",
       "      <td>-0.023106</td>\n",
       "      <td>-0.006555</td>\n",
       "    </tr>\n",
       "  </tbody>\n",
       "</table>\n",
       "</div>\n",
       "      <button class=\"colab-df-convert\" onclick=\"convertToInteractive('df-75e5246a-3b2d-40ea-929c-f79bcb26d57c')\"\n",
       "              title=\"Convert this dataframe to an interactive table.\"\n",
       "              style=\"display:none;\">\n",
       "        \n",
       "  <svg xmlns=\"http://www.w3.org/2000/svg\" height=\"24px\"viewBox=\"0 0 24 24\"\n",
       "       width=\"24px\">\n",
       "    <path d=\"M0 0h24v24H0V0z\" fill=\"none\"/>\n",
       "    <path d=\"M18.56 5.44l.94 2.06.94-2.06 2.06-.94-2.06-.94-.94-2.06-.94 2.06-2.06.94zm-11 1L8.5 8.5l.94-2.06 2.06-.94-2.06-.94L8.5 2.5l-.94 2.06-2.06.94zm10 10l.94 2.06.94-2.06 2.06-.94-2.06-.94-.94-2.06-.94 2.06-2.06.94z\"/><path d=\"M17.41 7.96l-1.37-1.37c-.4-.4-.92-.59-1.43-.59-.52 0-1.04.2-1.43.59L10.3 9.45l-7.72 7.72c-.78.78-.78 2.05 0 2.83L4 21.41c.39.39.9.59 1.41.59.51 0 1.02-.2 1.41-.59l7.78-7.78 2.81-2.81c.8-.78.8-2.07 0-2.86zM5.41 20L4 18.59l7.72-7.72 1.47 1.35L5.41 20z\"/>\n",
       "  </svg>\n",
       "      </button>\n",
       "      \n",
       "  <style>\n",
       "    .colab-df-container {\n",
       "      display:flex;\n",
       "      flex-wrap:wrap;\n",
       "      gap: 12px;\n",
       "    }\n",
       "\n",
       "    .colab-df-convert {\n",
       "      background-color: #E8F0FE;\n",
       "      border: none;\n",
       "      border-radius: 50%;\n",
       "      cursor: pointer;\n",
       "      display: none;\n",
       "      fill: #1967D2;\n",
       "      height: 32px;\n",
       "      padding: 0 0 0 0;\n",
       "      width: 32px;\n",
       "    }\n",
       "\n",
       "    .colab-df-convert:hover {\n",
       "      background-color: #E2EBFA;\n",
       "      box-shadow: 0px 1px 2px rgba(60, 64, 67, 0.3), 0px 1px 3px 1px rgba(60, 64, 67, 0.15);\n",
       "      fill: #174EA6;\n",
       "    }\n",
       "\n",
       "    [theme=dark] .colab-df-convert {\n",
       "      background-color: #3B4455;\n",
       "      fill: #D2E3FC;\n",
       "    }\n",
       "\n",
       "    [theme=dark] .colab-df-convert:hover {\n",
       "      background-color: #434B5C;\n",
       "      box-shadow: 0px 1px 3px 1px rgba(0, 0, 0, 0.15);\n",
       "      filter: drop-shadow(0px 1px 2px rgba(0, 0, 0, 0.3));\n",
       "      fill: #FFFFFF;\n",
       "    }\n",
       "  </style>\n",
       "\n",
       "      <script>\n",
       "        const buttonEl =\n",
       "          document.querySelector('#df-75e5246a-3b2d-40ea-929c-f79bcb26d57c button.colab-df-convert');\n",
       "        buttonEl.style.display =\n",
       "          google.colab.kernel.accessAllowed ? 'block' : 'none';\n",
       "\n",
       "        async function convertToInteractive(key) {\n",
       "          const element = document.querySelector('#df-75e5246a-3b2d-40ea-929c-f79bcb26d57c');\n",
       "          const dataTable =\n",
       "            await google.colab.kernel.invokeFunction('convertToInteractive',\n",
       "                                                     [key], {});\n",
       "          if (!dataTable) return;\n",
       "\n",
       "          const docLinkHtml = 'Like what you see? Visit the ' +\n",
       "            '<a target=\"_blank\" href=https://colab.research.google.com/notebooks/data_table.ipynb>data table notebook</a>'\n",
       "            + ' to learn more about interactive tables.';\n",
       "          element.innerHTML = '';\n",
       "          dataTable['output_type'] = 'display_data';\n",
       "          await google.colab.output.renderOutput(dataTable, element);\n",
       "          const docLink = document.createElement('div');\n",
       "          docLink.innerHTML = docLinkHtml;\n",
       "          element.appendChild(docLink);\n",
       "        }\n",
       "      </script>\n",
       "    </div>\n",
       "  </div>\n",
       "  "
      ],
      "text/plain": [
       "                AMZN     GOOGL      GSPC\n",
       "Date                                    \n",
       "2021-01-05  0.010004  0.008064  0.007083\n",
       "2021-01-06 -0.024897 -0.009868  0.005710\n",
       "2021-01-07  0.007577  0.029869  0.014847\n",
       "2021-01-08  0.006496  0.013239  0.005492\n",
       "2021-01-11 -0.021519 -0.023106 -0.006555"
      ]
     },
     "execution_count": 71,
     "metadata": {},
     "output_type": "execute_result"
    }
   ],
   "source": [
    "returns = port.pct_change()\n",
    "returns.dropna(inplace=True)\n",
    "returns.head()"
   ]
  },
  {
   "cell_type": "markdown",
   "id": "hSShTD1e1YrQ",
   "metadata": {
    "id": "hSShTD1e1YrQ"
   },
   "source": [
    "## Calculate excess returns"
   ]
  },
  {
   "cell_type": "code",
   "execution_count": 72,
   "id": "UJbBxWshGJ98",
   "metadata": {
    "colab": {
     "base_uri": "https://localhost:8080/",
     "height": 281
    },
    "id": "UJbBxWshGJ98",
    "outputId": "1ed641a0-7566-43d2-82a8-47a04858d666"
   },
   "outputs": [
    {
     "data": {
      "image/png": "[encoded data removed]",
      "text/plain": [
       "<Figure size 432x288 with 1 Axes>"
      ]
     },
     "metadata": {
      "needs_background": "light"
     },
     "output_type": "display_data"
    }
   ],
   "source": [
    "# Convert the 3-month risk-free rate into daily rate\n",
    "risk_free = risk_free/90\n",
    "\n",
    "# Plot daily risk free rate\n",
    "plt.plot(risk_free)\n",
    "plt.title('Daily Risk Free Rate')\n",
    "plt.show()"
   ]
  },
  {
   "cell_type": "code",
   "execution_count": 73,
   "id": "-NeSje7jGZZ4",
   "metadata": {
    "colab": {
     "base_uri": "https://localhost:8080/",
     "height": 235
    },
    "id": "-NeSje7jGZZ4",
    "outputId": "913cf438-110f-47ea-d040-eba4cac0844f"
   },
   "outputs": [
    {
     "data": {
      "text/html": [
       "\n",
       "  <div id=\"df-e33ea689-2f12-485a-902e-3e799e027ebc\">\n",
       "    <div class=\"colab-df-container\">\n",
       "      <div>\n",
       "<style scoped>\n",
       "    .dataframe tbody tr th:only-of-type {\n",
       "        vertical-align: middle;\n",
       "    }\n",
       "\n",
       "    .dataframe tbody tr th {\n",
       "        vertical-align: top;\n",
       "    }\n",
       "\n",
       "    .dataframe thead th {\n",
       "        text-align: right;\n",
       "    }\n",
       "</style>\n",
       "<table border=\"1\" class=\"dataframe\">\n",
       "  <thead>\n",
       "    <tr style=\"text-align: right;\">\n",
       "      <th></th>\n",
       "      <th>AMZN</th>\n",
       "      <th>GOOGL</th>\n",
       "      <th>GSPC</th>\n",
       "      <th>excess_return_AMZN</th>\n",
       "      <th>excess_return_GOOGL</th>\n",
       "      <th>excess_return_GSPC</th>\n",
       "    </tr>\n",
       "    <tr>\n",
       "      <th>Date</th>\n",
       "      <th></th>\n",
       "      <th></th>\n",
       "      <th></th>\n",
       "      <th></th>\n",
       "      <th></th>\n",
       "      <th></th>\n",
       "    </tr>\n",
       "  </thead>\n",
       "  <tbody>\n",
       "    <tr>\n",
       "      <th>2021-01-05</th>\n",
       "      <td>0.010004</td>\n",
       "      <td>0.008064</td>\n",
       "      <td>0.007083</td>\n",
       "      <td>0.009004</td>\n",
       "      <td>0.007064</td>\n",
       "      <td>0.006083</td>\n",
       "    </tr>\n",
       "    <tr>\n",
       "      <th>2021-01-06</th>\n",
       "      <td>-0.024897</td>\n",
       "      <td>-0.009868</td>\n",
       "      <td>0.005710</td>\n",
       "      <td>-0.025897</td>\n",
       "      <td>-0.010868</td>\n",
       "      <td>0.004710</td>\n",
       "    </tr>\n",
       "    <tr>\n",
       "      <th>2021-01-07</th>\n",
       "      <td>0.007577</td>\n",
       "      <td>0.029869</td>\n",
       "      <td>0.014847</td>\n",
       "      <td>0.006577</td>\n",
       "      <td>0.028869</td>\n",
       "      <td>0.013847</td>\n",
       "    </tr>\n",
       "    <tr>\n",
       "      <th>2021-01-08</th>\n",
       "      <td>0.006496</td>\n",
       "      <td>0.013239</td>\n",
       "      <td>0.005492</td>\n",
       "      <td>0.005607</td>\n",
       "      <td>0.012350</td>\n",
       "      <td>0.004603</td>\n",
       "    </tr>\n",
       "    <tr>\n",
       "      <th>2021-01-11</th>\n",
       "      <td>-0.021519</td>\n",
       "      <td>-0.023106</td>\n",
       "      <td>-0.006555</td>\n",
       "      <td>-0.022408</td>\n",
       "      <td>-0.023995</td>\n",
       "      <td>-0.007444</td>\n",
       "    </tr>\n",
       "  </tbody>\n",
       "</table>\n",
       "</div>\n",
       "      <button class=\"colab-df-convert\" onclick=\"convertToInteractive('df-e33ea689-2f12-485a-902e-3e799e027ebc')\"\n",
       "              title=\"Convert this dataframe to an interactive table.\"\n",
       "              style=\"display:none;\">\n",
       "        \n",
       "  <svg xmlns=\"http://www.w3.org/2000/svg\" height=\"24px\"viewBox=\"0 0 24 24\"\n",
       "       width=\"24px\">\n",
       "    <path d=\"M0 0h24v24H0V0z\" fill=\"none\"/>\n",
       "    <path d=\"M18.56 5.44l.94 2.06.94-2.06 2.06-.94-2.06-.94-.94-2.06-.94 2.06-2.06.94zm-11 1L8.5 8.5l.94-2.06 2.06-.94-2.06-.94L8.5 2.5l-.94 2.06-2.06.94zm10 10l.94 2.06.94-2.06 2.06-.94-2.06-.94-.94-2.06-.94 2.06-2.06.94z\"/><path d=\"M17.41 7.96l-1.37-1.37c-.4-.4-.92-.59-1.43-.59-.52 0-1.04.2-1.43.59L10.3 9.45l-7.72 7.72c-.78.78-.78 2.05 0 2.83L4 21.41c.39.39.9.59 1.41.59.51 0 1.02-.2 1.41-.59l7.78-7.78 2.81-2.81c.8-.78.8-2.07 0-2.86zM5.41 20L4 18.59l7.72-7.72 1.47 1.35L5.41 20z\"/>\n",
       "  </svg>\n",
       "      </button>\n",
       "      \n",
       "  <style>\n",
       "    .colab-df-container {\n",
       "      display:flex;\n",
       "      flex-wrap:wrap;\n",
       "      gap: 12px;\n",
       "    }\n",
       "\n",
       "    .colab-df-convert {\n",
       "      background-color: #E8F0FE;\n",
       "      border: none;\n",
       "      border-radius: 50%;\n",
       "      cursor: pointer;\n",
       "      display: none;\n",
       "      fill: #1967D2;\n",
       "      height: 32px;\n",
       "      padding: 0 0 0 0;\n",
       "      width: 32px;\n",
       "    }\n",
       "\n",
       "    .colab-df-convert:hover {\n",
       "      background-color: #E2EBFA;\n",
       "      box-shadow: 0px 1px 2px rgba(60, 64, 67, 0.3), 0px 1px 3px 1px rgba(60, 64, 67, 0.15);\n",
       "      fill: #174EA6;\n",
       "    }\n",
       "\n",
       "    [theme=dark] .colab-df-convert {\n",
       "      background-color: #3B4455;\n",
       "      fill: #D2E3FC;\n",
       "    }\n",
       "\n",
       "    [theme=dark] .colab-df-convert:hover {\n",
       "      background-color: #434B5C;\n",
       "      box-shadow: 0px 1px 3px 1px rgba(0, 0, 0, 0.15);\n",
       "      filter: drop-shadow(0px 1px 2px rgba(0, 0, 0, 0.3));\n",
       "      fill: #FFFFFF;\n",
       "    }\n",
       "  </style>\n",
       "\n",
       "      <script>\n",
       "        const buttonEl =\n",
       "          document.querySelector('#df-e33ea689-2f12-485a-902e-3e799e027ebc button.colab-df-convert');\n",
       "        buttonEl.style.display =\n",
       "          google.colab.kernel.accessAllowed ? 'block' : 'none';\n",
       "\n",
       "        async function convertToInteractive(key) {\n",
       "          const element = document.querySelector('#df-e33ea689-2f12-485a-902e-3e799e027ebc');\n",
       "          const dataTable =\n",
       "            await google.colab.kernel.invokeFunction('convertToInteractive',\n",
       "                                                     [key], {});\n",
       "          if (!dataTable) return;\n",
       "\n",
       "          const docLinkHtml = 'Like what you see? Visit the ' +\n",
       "            '<a target=\"_blank\" href=https://colab.research.google.com/notebooks/data_table.ipynb>data table notebook</a>'\n",
       "            + ' to learn more about interactive tables.';\n",
       "          element.innerHTML = '';\n",
       "          dataTable['output_type'] = 'display_data';\n",
       "          await google.colab.output.renderOutput(dataTable, element);\n",
       "          const docLink = document.createElement('div');\n",
       "          docLink.innerHTML = docLinkHtml;\n",
       "          element.appendChild(docLink);\n",
       "        }\n",
       "      </script>\n",
       "    </div>\n",
       "  </div>\n",
       "  "
      ],
      "text/plain": [
       "                AMZN     GOOGL      GSPC  excess_return_AMZN  \\\n",
       "Date                                                           \n",
       "2021-01-05  0.010004  0.008064  0.007083            0.009004   \n",
       "2021-01-06 -0.024897 -0.009868  0.005710           -0.025897   \n",
       "2021-01-07  0.007577  0.029869  0.014847            0.006577   \n",
       "2021-01-08  0.006496  0.013239  0.005492            0.005607   \n",
       "2021-01-11 -0.021519 -0.023106 -0.006555           -0.022408   \n",
       "\n",
       "            excess_return_GOOGL  excess_return_GSPC  \n",
       "Date                                                 \n",
       "2021-01-05             0.007064            0.006083  \n",
       "2021-01-06            -0.010868            0.004710  \n",
       "2021-01-07             0.028869            0.013847  \n",
       "2021-01-08             0.012350            0.004603  \n",
       "2021-01-11            -0.023995           -0.007444  "
      ]
     },
     "execution_count": 73,
     "metadata": {},
     "output_type": "execute_result"
    }
   ],
   "source": [
    "# Subtract risk free rate from the stock returns\n",
    "stocks = port.columns\n",
    "for i in stocks:\n",
    "    returns[f\"excess_return_{i}\"] = returns[i] - risk_free\n",
    "returns.head()"
   ]
  },
  {
   "cell_type": "markdown",
   "id": "6c4beDjFHNrY",
   "metadata": {
    "id": "6c4beDjFHNrY"
   },
   "source": [
    "# Capital Asset Pricing Model"
   ]
  },
  {
   "cell_type": "markdown",
   "id": "yPb24csQ2HcA",
   "metadata": {
    "id": "yPb24csQ2HcA"
   },
   "source": [
    "## Amazon CAPM result"
   ]
  },
  {
   "cell_type": "code",
   "execution_count": 74,
   "id": "zBsCTUWIGxiS",
   "metadata": {
    "colab": {
     "base_uri": "https://localhost:8080/",
     "height": 498
    },
    "id": "zBsCTUWIGxiS",
    "outputId": "ca4ffcb1-fe27-41b8-8c74-a379c8f83de4"
   },
   "outputs": [
    {
     "name": "stderr",
     "output_type": "stream",
     "text": [
      "/usr/local/lib/python3.8/dist-packages/statsmodels/tsa/tsatools.py:142: FutureWarning: In a future version of pandas all arguments of concat except for the argument 'objs' will be keyword-only\n",
      "  x = pd.concat(x[::order], 1)\n"
     ]
    },
    {
     "data": {
      "text/html": [
       "<table class=\"simpletable\">\n",
       "<caption>OLS Regression Results</caption>\n",
       "<tr>\n",
       "  <th>Dep. Variable:</th>    <td>excess_return_AMZN</td> <th>  R-squared:         </th> <td>   0.281</td>\n",
       "</tr>\n",
       "<tr>\n",
       "  <th>Model:</th>                    <td>OLS</td>        <th>  Adj. R-squared:    </th> <td>   0.276</td>\n",
       "</tr>\n",
       "<tr>\n",
       "  <th>Method:</th>              <td>Least Squares</td>   <th>  F-statistic:       </th> <td>   55.53</td>\n",
       "</tr>\n",
       "<tr>\n",
       "  <th>Date:</th>              <td>Tue, 28 Feb 2023</td>  <th>  Prob (F-statistic):</th> <td>8.23e-12</td>\n",
       "</tr>\n",
       "<tr>\n",
       "  <th>Time:</th>                  <td>03:33:41</td>      <th>  Log-Likelihood:    </th> <td>  414.90</td>\n",
       "</tr>\n",
       "<tr>\n",
       "  <th>No. Observations:</th>       <td>   144</td>       <th>  AIC:               </th> <td>  -825.8</td>\n",
       "</tr>\n",
       "<tr>\n",
       "  <th>Df Residuals:</th>           <td>   142</td>       <th>  BIC:               </th> <td>  -819.9</td>\n",
       "</tr>\n",
       "<tr>\n",
       "  <th>Df Model:</th>               <td>     1</td>       <th>                     </th>     <td> </td>   \n",
       "</tr>\n",
       "<tr>\n",
       "  <th>Covariance Type:</th>       <td>nonrobust</td>     <th>                     </th>     <td> </td>   \n",
       "</tr>\n",
       "</table>\n",
       "<table class=\"simpletable\">\n",
       "<tr>\n",
       "           <td></td>             <th>coef</th>     <th>std err</th>      <th>t</th>      <th>P>|t|</th>  <th>[0.025</th>    <th>0.975]</th>  \n",
       "</tr>\n",
       "<tr>\n",
       "  <th>excess_return_GSPC</th> <td>    1.0243</td> <td>    0.137</td> <td>    7.452</td> <td> 0.000</td> <td>    0.753</td> <td>    1.296</td>\n",
       "</tr>\n",
       "<tr>\n",
       "  <th>const</th>              <td>   -0.0008</td> <td>    0.001</td> <td>   -0.717</td> <td> 0.475</td> <td>   -0.003</td> <td>    0.001</td>\n",
       "</tr>\n",
       "</table>\n",
       "<table class=\"simpletable\">\n",
       "<tr>\n",
       "  <th>Omnibus:</th>       <td>27.825</td> <th>  Durbin-Watson:     </th> <td>   1.660</td>\n",
       "</tr>\n",
       "<tr>\n",
       "  <th>Prob(Omnibus):</th> <td> 0.000</td> <th>  Jarque-Bera (JB):  </th> <td> 125.832</td>\n",
       "</tr>\n",
       "<tr>\n",
       "  <th>Skew:</th>          <td>-0.512</td> <th>  Prob(JB):          </th> <td>4.74e-28</td>\n",
       "</tr>\n",
       "<tr>\n",
       "  <th>Kurtosis:</th>      <td> 7.464</td> <th>  Cond. No.          </th> <td>    121.</td>\n",
       "</tr>\n",
       "</table><br/><br/>Notes:<br/>[1] Standard Errors assume that the covariance matrix of the errors is correctly specified."
      ],
      "text/plain": [
       "<class 'statsmodels.iolib.summary.Summary'>\n",
       "\"\"\"\n",
       "                            OLS Regression Results                            \n",
       "==============================================================================\n",
       "Dep. Variable:     excess_return_AMZN   R-squared:                       0.281\n",
       "Model:                            OLS   Adj. R-squared:                  0.276\n",
       "Method:                 Least Squares   F-statistic:                     55.53\n",
       "Date:                Tue, 28 Feb 2023   Prob (F-statistic):           8.23e-12\n",
       "Time:                        03:33:41   Log-Likelihood:                 414.90\n",
       "No. Observations:                 144   AIC:                            -825.8\n",
       "Df Residuals:                     142   BIC:                            -819.9\n",
       "Df Model:                           1                                         \n",
       "Covariance Type:            nonrobust                                         \n",
       "======================================================================================\n",
       "                         coef    std err          t      P>|t|      [0.025      0.975]\n",
       "--------------------------------------------------------------------------------------\n",
       "excess_return_GSPC     1.0243      0.137      7.452      0.000       0.753       1.296\n",
       "const                 -0.0008      0.001     -0.717      0.475      -0.003       0.001\n",
       "==============================================================================\n",
       "Omnibus:                       27.825   Durbin-Watson:                   1.660\n",
       "Prob(Omnibus):                  0.000   Jarque-Bera (JB):              125.832\n",
       "Skew:                          -0.512   Prob(JB):                     4.74e-28\n",
       "Kurtosis:                       7.464   Cond. No.                         121.\n",
       "==============================================================================\n",
       "\n",
       "Notes:\n",
       "[1] Standard Errors assume that the covariance matrix of the errors is correctly specified.\n",
       "\"\"\""
      ]
     },
     "execution_count": 74,
     "metadata": {},
     "output_type": "execute_result"
    }
   ],
   "source": [
    "# Split dependent/independent variables\n",
    "y_amzn = returns['excess_return_AMZN']\n",
    "X = returns['excess_return_GSPC']\n",
    "X = sm.add_constant(X, prepend=False)\n",
    "\n",
    "# Ordinary Least Square method\n",
    "capm_amzn = sm.OLS(y_amzn, X)\n",
    "capm_result_amzn = capm_amzn.fit()\n",
    "\n",
    "# Summary\n",
    "capm_result_amzn.summary()"
   ]
  },
  {
   "cell_type": "markdown",
   "id": "A5f-s-qq2pZ_",
   "metadata": {
    "id": "A5f-s-qq2pZ_"
   },
   "source": [
    "CAPM analysis of Amazon tells statistically significant beta coefficient since we have a p-value of 0.0000 < 0.05 \n",
    "<br>The magnitude of beta coefficient is 1.0243 indicating that 1-unit increase in S&P-500 results in an increase of 1.0243 in Amazon's return."
   ]
  },
  {
   "cell_type": "markdown",
   "id": "Aa11Xsum2MPj",
   "metadata": {
    "id": "Aa11Xsum2MPj"
   },
   "source": [
    "## Google CAPM result"
   ]
  },
  {
   "cell_type": "code",
   "execution_count": 75,
   "id": "g89EsBgyHxys",
   "metadata": {
    "colab": {
     "base_uri": "https://localhost:8080/",
     "height": 498
    },
    "id": "g89EsBgyHxys",
    "outputId": "968a9f19-ab6c-4603-b745-4611708d98e9"
   },
   "outputs": [
    {
     "name": "stderr",
     "output_type": "stream",
     "text": [
      "/usr/local/lib/python3.8/dist-packages/statsmodels/tsa/tsatools.py:142: FutureWarning: In a future version of pandas all arguments of concat except for the argument 'objs' will be keyword-only\n",
      "  x = pd.concat(x[::order], 1)\n"
     ]
    },
    {
     "data": {
      "text/html": [
       "<table class=\"simpletable\">\n",
       "<caption>OLS Regression Results</caption>\n",
       "<tr>\n",
       "  <th>Dep. Variable:</th>    <td>excess_return_GOOGL</td> <th>  R-squared:         </th> <td>   0.477</td>\n",
       "</tr>\n",
       "<tr>\n",
       "  <th>Model:</th>                    <td>OLS</td>         <th>  Adj. R-squared:    </th> <td>   0.474</td>\n",
       "</tr>\n",
       "<tr>\n",
       "  <th>Method:</th>              <td>Least Squares</td>    <th>  F-statistic:       </th> <td>   129.6</td>\n",
       "</tr>\n",
       "<tr>\n",
       "  <th>Date:</th>              <td>Tue, 28 Feb 2023</td>   <th>  Prob (F-statistic):</th> <td>9.55e-22</td>\n",
       "</tr>\n",
       "<tr>\n",
       "  <th>Time:</th>                  <td>03:33:41</td>       <th>  Log-Likelihood:    </th> <td>  433.80</td>\n",
       "</tr>\n",
       "<tr>\n",
       "  <th>No. Observations:</th>       <td>   144</td>        <th>  AIC:               </th> <td>  -863.6</td>\n",
       "</tr>\n",
       "<tr>\n",
       "  <th>Df Residuals:</th>           <td>   142</td>        <th>  BIC:               </th> <td>  -857.7</td>\n",
       "</tr>\n",
       "<tr>\n",
       "  <th>Df Model:</th>               <td>     1</td>        <th>                     </th>     <td> </td>   \n",
       "</tr>\n",
       "<tr>\n",
       "  <th>Covariance Type:</th>       <td>nonrobust</td>      <th>                     </th>     <td> </td>   \n",
       "</tr>\n",
       "</table>\n",
       "<table class=\"simpletable\">\n",
       "<tr>\n",
       "           <td></td>             <th>coef</th>     <th>std err</th>      <th>t</th>      <th>P>|t|</th>  <th>[0.025</th>    <th>0.975]</th>  \n",
       "</tr>\n",
       "<tr>\n",
       "  <th>excess_return_GSPC</th> <td>    1.3725</td> <td>    0.121</td> <td>   11.386</td> <td> 0.000</td> <td>    1.134</td> <td>    1.611</td>\n",
       "</tr>\n",
       "<tr>\n",
       "  <th>const</th>              <td>    0.0017</td> <td>    0.001</td> <td>    1.704</td> <td> 0.091</td> <td>   -0.000</td> <td>    0.004</td>\n",
       "</tr>\n",
       "</table>\n",
       "<table class=\"simpletable\">\n",
       "<tr>\n",
       "  <th>Omnibus:</th>       <td>67.605</td> <th>  Durbin-Watson:     </th> <td>   2.275</td>\n",
       "</tr>\n",
       "<tr>\n",
       "  <th>Prob(Omnibus):</th> <td> 0.000</td> <th>  Jarque-Bera (JB):  </th> <td> 444.067</td>\n",
       "</tr>\n",
       "<tr>\n",
       "  <th>Skew:</th>          <td> 1.499</td> <th>  Prob(JB):          </th> <td>3.73e-97</td>\n",
       "</tr>\n",
       "<tr>\n",
       "  <th>Kurtosis:</th>      <td>11.063</td> <th>  Cond. No.          </th> <td>    121.</td>\n",
       "</tr>\n",
       "</table><br/><br/>Notes:<br/>[1] Standard Errors assume that the covariance matrix of the errors is correctly specified."
      ],
      "text/plain": [
       "<class 'statsmodels.iolib.summary.Summary'>\n",
       "\"\"\"\n",
       "                             OLS Regression Results                            \n",
       "===============================================================================\n",
       "Dep. Variable:     excess_return_GOOGL   R-squared:                       0.477\n",
       "Model:                             OLS   Adj. R-squared:                  0.474\n",
       "Method:                  Least Squares   F-statistic:                     129.6\n",
       "Date:                 Tue, 28 Feb 2023   Prob (F-statistic):           9.55e-22\n",
       "Time:                         03:33:41   Log-Likelihood:                 433.80\n",
       "No. Observations:                  144   AIC:                            -863.6\n",
       "Df Residuals:                      142   BIC:                            -857.7\n",
       "Df Model:                            1                                         \n",
       "Covariance Type:             nonrobust                                         \n",
       "======================================================================================\n",
       "                         coef    std err          t      P>|t|      [0.025      0.975]\n",
       "--------------------------------------------------------------------------------------\n",
       "excess_return_GSPC     1.3725      0.121     11.386      0.000       1.134       1.611\n",
       "const                  0.0017      0.001      1.704      0.091      -0.000       0.004\n",
       "==============================================================================\n",
       "Omnibus:                       67.605   Durbin-Watson:                   2.275\n",
       "Prob(Omnibus):                  0.000   Jarque-Bera (JB):              444.067\n",
       "Skew:                           1.499   Prob(JB):                     3.73e-97\n",
       "Kurtosis:                      11.063   Cond. No.                         121.\n",
       "==============================================================================\n",
       "\n",
       "Notes:\n",
       "[1] Standard Errors assume that the covariance matrix of the errors is correctly specified.\n",
       "\"\"\""
      ]
     },
     "execution_count": 75,
     "metadata": {},
     "output_type": "execute_result"
    }
   ],
   "source": [
    "# Split dependent/independent variables\n",
    "y_googl = returns['excess_return_GOOGL']\n",
    "X = returns['excess_return_GSPC']\n",
    "X = sm.add_constant(X, prepend=False)\n",
    "\n",
    "# Ordinary Least Square method\n",
    "capm_googl = sm.OLS(y_googl, X)\n",
    "capm_result_googl = capm_googl.fit()\n",
    "\n",
    "# Summary\n",
    "capm_result_googl.summary()"
   ]
  },
  {
   "cell_type": "markdown",
   "id": "zr9RMPH8IXnb",
   "metadata": {
    "id": "zr9RMPH8IXnb"
   },
   "source": [
    "CAPM analysis of Google tells statistically significant beta coefficient since we have a p-value of 0.0000 < 0.05 \n",
    "<br>The magnitude of beta coefficient is 1.3725 indicating that 1-unit increase in S&P-500 results in an increase of 1.3725 in Google's return.\n",
    "<br>Google is more volatile than the S&P-500"
   ]
  },
  {
   "cell_type": "markdown",
   "id": "6Prr-TL35E5f",
   "metadata": {
    "id": "6Prr-TL35E5f"
   },
   "source": [
    "## Security Market Line"
   ]
  },
  {
   "cell_type": "code",
   "execution_count": 76,
   "id": "c_i9MtY4H_Oz",
   "metadata": {
    "colab": {
     "base_uri": "https://localhost:8080/",
     "height": 295
    },
    "id": "c_i9MtY4H_Oz",
    "outputId": "301945ef-0d69-4036-b7f6-8493c24b95cd"
   },
   "outputs": [
    {
     "data": {
      "image/png": "[encoded data removed]",
      "text/plain": [
       "<Figure size 432x288 with 1 Axes>"
      ]
     },
     "metadata": {
      "needs_background": "light"
     },
     "output_type": "display_data"
    }
   ],
   "source": [
    "# Calculate asset return and plot Security Market Line\n",
    "def SML(rf, betas, ret):\n",
    "    asset_ret = [rf + (rm-rf)*i for i in betas]\n",
    "    plt.plot(betas, asset_ret)\n",
    "    plt.xlabel('Asset Beta')\n",
    "    plt.ylabel('Asset Return')\n",
    "    plt.title('Security Market Line')\n",
    "    plt.plot(1, ret, 'ro')\n",
    "\n",
    "# Get beta coefficients of stocks, return mean, risk free mean\n",
    "betas = [capm_result_amzn.params[0],capm_result_googl.params[0]]\n",
    "rm = returns['GSPC'].mean()\n",
    "risk_free_rate = risk_free.mean()\n",
    "\n",
    "# Plot SML\n",
    "SML(risk_free_rate, betas, rm)"
   ]
  },
  {
   "cell_type": "markdown",
   "id": "9Buc9Uy16Lim",
   "metadata": {
    "id": "9Buc9Uy16Lim"
   },
   "source": [
    "Given the beta, if the stock return locates below the SML, this implies that stock has a higher return per unit of risk assumed. Hence, it can be concluded that the stock is overvalued and decide to sell the stock. \n",
    "<br>Conversely, if the stock locates above the SML, stock has a lower return per unit of risk assumed, which is considered to be undervalued and buying a stock would be wise choice."
   ]
  },
  {
   "cell_type": "markdown",
   "id": "z5lEkA7y_jEw",
   "metadata": {
    "id": "z5lEkA7y_jEw"
   },
   "source": [
    "## Check stocks value with SML"
   ]
  },
  {
   "cell_type": "code",
   "execution_count": 77,
   "id": "g6FyZj21-8Op",
   "metadata": {
    "colab": {
     "base_uri": "https://localhost:8080/",
     "height": 111
    },
    "id": "g6FyZj21-8Op",
    "outputId": "eacebed8-6a45-4e53-c7bb-c4bee547d2a6"
   },
   "outputs": [
    {
     "data": {
      "text/html": [
       "\n",
       "  <div id=\"df-e4d9f262-f7f5-4655-8454-e72c713608c6\">\n",
       "    <div class=\"colab-df-container\">\n",
       "      <div>\n",
       "<style scoped>\n",
       "    .dataframe tbody tr th:only-of-type {\n",
       "        vertical-align: middle;\n",
       "    }\n",
       "\n",
       "    .dataframe tbody tr th {\n",
       "        vertical-align: top;\n",
       "    }\n",
       "\n",
       "    .dataframe thead th {\n",
       "        text-align: right;\n",
       "    }\n",
       "</style>\n",
       "<table border=\"1\" class=\"dataframe\">\n",
       "  <thead>\n",
       "    <tr style=\"text-align: right;\">\n",
       "      <th></th>\n",
       "      <th>betas</th>\n",
       "      <th>ret_exp</th>\n",
       "    </tr>\n",
       "  </thead>\n",
       "  <tbody>\n",
       "    <tr>\n",
       "      <th>AMZN</th>\n",
       "      <td>1.024267</td>\n",
       "      <td>0.0045</td>\n",
       "    </tr>\n",
       "    <tr>\n",
       "      <th>GOOGL</th>\n",
       "      <td>1.372530</td>\n",
       "      <td>0.0050</td>\n",
       "    </tr>\n",
       "  </tbody>\n",
       "</table>\n",
       "</div>\n",
       "      <button class=\"colab-df-convert\" onclick=\"convertToInteractive('df-e4d9f262-f7f5-4655-8454-e72c713608c6')\"\n",
       "              title=\"Convert this dataframe to an interactive table.\"\n",
       "              style=\"display:none;\">\n",
       "        \n",
       "  <svg xmlns=\"http://www.w3.org/2000/svg\" height=\"24px\"viewBox=\"0 0 24 24\"\n",
       "       width=\"24px\">\n",
       "    <path d=\"M0 0h24v24H0V0z\" fill=\"none\"/>\n",
       "    <path d=\"M18.56 5.44l.94 2.06.94-2.06 2.06-.94-2.06-.94-.94-2.06-.94 2.06-2.06.94zm-11 1L8.5 8.5l.94-2.06 2.06-.94-2.06-.94L8.5 2.5l-.94 2.06-2.06.94zm10 10l.94 2.06.94-2.06 2.06-.94-2.06-.94-.94-2.06-.94 2.06-2.06.94z\"/><path d=\"M17.41 7.96l-1.37-1.37c-.4-.4-.92-.59-1.43-.59-.52 0-1.04.2-1.43.59L10.3 9.45l-7.72 7.72c-.78.78-.78 2.05 0 2.83L4 21.41c.39.39.9.59 1.41.59.51 0 1.02-.2 1.41-.59l7.78-7.78 2.81-2.81c.8-.78.8-2.07 0-2.86zM5.41 20L4 18.59l7.72-7.72 1.47 1.35L5.41 20z\"/>\n",
       "  </svg>\n",
       "      </button>\n",
       "      \n",
       "  <style>\n",
       "    .colab-df-container {\n",
       "      display:flex;\n",
       "      flex-wrap:wrap;\n",
       "      gap: 12px;\n",
       "    }\n",
       "\n",
       "    .colab-df-convert {\n",
       "      background-color: #E8F0FE;\n",
       "      border: none;\n",
       "      border-radius: 50%;\n",
       "      cursor: pointer;\n",
       "      display: none;\n",
       "      fill: #1967D2;\n",
       "      height: 32px;\n",
       "      padding: 0 0 0 0;\n",
       "      width: 32px;\n",
       "    }\n",
       "\n",
       "    .colab-df-convert:hover {\n",
       "      background-color: #E2EBFA;\n",
       "      box-shadow: 0px 1px 2px rgba(60, 64, 67, 0.3), 0px 1px 3px 1px rgba(60, 64, 67, 0.15);\n",
       "      fill: #174EA6;\n",
       "    }\n",
       "\n",
       "    [theme=dark] .colab-df-convert {\n",
       "      background-color: #3B4455;\n",
       "      fill: #D2E3FC;\n",
       "    }\n",
       "\n",
       "    [theme=dark] .colab-df-convert:hover {\n",
       "      background-color: #434B5C;\n",
       "      box-shadow: 0px 1px 3px 1px rgba(0, 0, 0, 0.15);\n",
       "      filter: drop-shadow(0px 1px 2px rgba(0, 0, 0, 0.3));\n",
       "      fill: #FFFFFF;\n",
       "    }\n",
       "  </style>\n",
       "\n",
       "      <script>\n",
       "        const buttonEl =\n",
       "          document.querySelector('#df-e4d9f262-f7f5-4655-8454-e72c713608c6 button.colab-df-convert');\n",
       "        buttonEl.style.display =\n",
       "          google.colab.kernel.accessAllowed ? 'block' : 'none';\n",
       "\n",
       "        async function convertToInteractive(key) {\n",
       "          const element = document.querySelector('#df-e4d9f262-f7f5-4655-8454-e72c713608c6');\n",
       "          const dataTable =\n",
       "            await google.colab.kernel.invokeFunction('convertToInteractive',\n",
       "                                                     [key], {});\n",
       "          if (!dataTable) return;\n",
       "\n",
       "          const docLinkHtml = 'Like what you see? Visit the ' +\n",
       "            '<a target=\"_blank\" href=https://colab.research.google.com/notebooks/data_table.ipynb>data table notebook</a>'\n",
       "            + ' to learn more about interactive tables.';\n",
       "          element.innerHTML = '';\n",
       "          dataTable['output_type'] = 'display_data';\n",
       "          await google.colab.output.renderOutput(dataTable, element);\n",
       "          const docLink = document.createElement('div');\n",
       "          docLink.innerHTML = docLinkHtml;\n",
       "          element.appendChild(docLink);\n",
       "        }\n",
       "      </script>\n",
       "    </div>\n",
       "  </div>\n",
       "  "
      ],
      "text/plain": [
       "          betas  ret_exp\n",
       "AMZN   1.024267   0.0045\n",
       "GOOGL  1.372530   0.0050"
      ]
     },
     "execution_count": 77,
     "metadata": {},
     "output_type": "execute_result"
    }
   ],
   "source": [
    "# Assume Amazon and Google return expectation 0.045% and 0.05% respectively\n",
    "ret_exp = [0.0045, 0.005]\n",
    "df_ret_exp = pd.DataFrame(ret_exp)\n",
    "df_betas = pd.DataFrame(betas)\n",
    "df_all = pd.concat([df_betas, df_ret_exp], axis=1)\n",
    "df_all.columns = ['betas', 'ret_exp']\n",
    "df_all.index = returns.columns[:2]\n",
    "df_all"
   ]
  },
  {
   "cell_type": "code",
   "execution_count": 78,
   "id": "IHRQyMuz_Pos",
   "metadata": {
    "colab": {
     "base_uri": "https://localhost:8080/"
    },
    "id": "IHRQyMuz_Pos",
    "outputId": "b05d1ada-0afd-4710-d647-014f17c6be41"
   },
   "outputs": [
    {
     "name": "stdout",
     "output_type": "stream",
     "text": [
      "The stock AMZN is undervalued\n",
      "The stock GOOGL is undervalued\n"
     ]
    }
   ],
   "source": [
    "# Check overvalued/undervalued\n",
    "def check_value(rf, rm, stock):\n",
    "    x = rf + (rm - rf)*df_all['betas'].loc[stock]\n",
    "    y = df_all['ret_exp'].loc[stock]\n",
    "    if x < y:\n",
    "        print(f'The stock {stock} is undervalued')\n",
    "    elif x > y:\n",
    "        print(f'The stock {stock} is overvalued')\n",
    "    else:\n",
    "        print(f'The stock {stock} is fairly priced')\n",
    "\n",
    "check_value(risk_free_rate, rm, \"AMZN\")\n",
    "check_value(risk_free_rate, rm, \"GOOGL\")"
   ]
  },
  {
   "cell_type": "markdown",
   "id": "staVldso6jvb",
   "metadata": {
    "id": "staVldso6jvb"
   },
   "source": [
    "# Sharpe and Treynor Ratios"
   ]
  },
  {
   "cell_type": "markdown",
   "id": "meIFJeA07wSN",
   "metadata": {
    "id": "meIFJeA07wSN"
   },
   "source": [
    "## Sharpe ratio"
   ]
  },
  {
   "cell_type": "code",
   "execution_count": 79,
   "id": "adt8zzrFsQ6L",
   "metadata": {
    "colab": {
     "base_uri": "https://localhost:8080/"
    },
    "id": "adt8zzrFsQ6L",
    "outputId": "e64b642a-7434-4245-95e6-8091f7eaf638"
   },
   "outputs": [
    {
     "data": {
      "text/plain": [
       "{'AMZN': -0.001, 'GOOGL': 0.169}"
      ]
     },
     "execution_count": 79,
     "metadata": {},
     "output_type": "execute_result"
    }
   ],
   "source": [
    "# Calculate Sharpe ratio\n",
    "def sharpe(stocks, rf, n_assets):\n",
    "    sharpe_ratios = {}\n",
    "    for i ,j in zip(stocks, range(n_assets)):\n",
    "        sharpe_ratios[i] = round((returns.iloc[:, j].mean() - rf)/np.std(returns.iloc[:,j]), 3)\n",
    "    return sharpe_ratios\n",
    "\n",
    "n_assets = 2\n",
    "sharpe_ratios = sharpe(stocks, risk_free_rate, n_assets)\n",
    "sharpe_ratios"
   ]
  },
  {
   "cell_type": "code",
   "execution_count": 80,
   "id": "Rpv1oxr-CIN6",
   "metadata": {
    "colab": {
     "base_uri": "https://localhost:8080/"
    },
    "id": "Rpv1oxr-CIN6",
    "outputId": "aed8eb3e-8fd9-4f22-a9ee-a4a2b66fe984"
   },
   "outputs": [
    {
     "name": "stdout",
     "output_type": "stream",
     "text": [
      "GOOGL\n",
      "0.169\n"
     ]
    }
   ],
   "source": [
    "# Get max Sharpe ratio\n",
    "print(max(sharpe_ratios, key=sharpe_ratios.get)) \n",
    "print(max(sharpe_ratios.values()))"
   ]
  },
  {
   "cell_type": "markdown",
   "id": "USCt5lEl7XKO",
   "metadata": {
    "id": "USCt5lEl7XKO"
   },
   "source": [
    "Sharpe ratio consider the total risk and fits well if portfolio is not well diversed\n",
    "<br>The higher the Sharpe ratio is, the higher the return we gain per risk is. Here Google is the highest stock with Sharpe ratio 0.169.\n",
    "<br>Lowest Sharpe ratio of Amazon indicates higher risk per return in relative to other stocks"
   ]
  },
  {
   "cell_type": "markdown",
   "id": "qxBFCg1g7j20",
   "metadata": {
    "id": "qxBFCg1g7j20"
   },
   "source": [
    "## Treynor ratio"
   ]
  },
  {
   "cell_type": "code",
   "execution_count": 81,
   "id": "5j3GY-H87FR4",
   "metadata": {
    "colab": {
     "base_uri": "https://localhost:8080/"
    },
    "id": "5j3GY-H87FR4",
    "outputId": "2686170b-1a3b-434c-a934-350c5823326b"
   },
   "outputs": [
    {
     "data": {
      "text/plain": [
       "{'AMZN': -0.0, 'GOOGL': 0.002}"
      ]
     },
     "execution_count": 81,
     "metadata": {},
     "output_type": "execute_result"
    }
   ],
   "source": [
    "# Calculate Treynor ratio\n",
    "stocks = returns.columns[:2]\n",
    "def treynor(stocks, rf, n_assets): \n",
    "    treynor_ratios = {}\n",
    "    for i, stock in enumerate(stocks):\n",
    "        treynor_ratios[stock] = round((returns.iloc[:, i].mean() - rf) / df_all['betas'][stock], 3)\n",
    "    return treynor_ratios\n",
    "\n",
    "treynor_ratios = treynor(stocks, risk_free_rate, n_assets)\n",
    "treynor_ratios"
   ]
  },
  {
   "cell_type": "code",
   "execution_count": 82,
   "id": "kAR2eRFkCfp7",
   "metadata": {
    "colab": {
     "base_uri": "https://localhost:8080/"
    },
    "id": "kAR2eRFkCfp7",
    "outputId": "13acc2d5-9182-4b54-c972-bc147c80813e"
   },
   "outputs": [
    {
     "name": "stdout",
     "output_type": "stream",
     "text": [
      "AMZN\n",
      "-0.0\n"
     ]
    }
   ],
   "source": [
    "# Get min Treynor ratio\n",
    "print(min(treynor_ratios, key=treynor_ratios.get)) \n",
    "print(min(treynor_ratios.values()))"
   ]
  },
  {
   "cell_type": "markdown",
   "id": "RhNvZlJv7-CF",
   "metadata": {
    "id": "RhNvZlJv7-CF"
   },
   "source": [
    "Treynor ratio takes systematic risk and it is good for well diversified portfolio.\n",
    "<br>Amazon has the least feasible stock"
   ]
  }
 ],
 "metadata": {
  "colab": {
   "provenance": [],
   "toc_visible": true
  },
  "kernelspec": {
   "display_name": "Python 3 (ipykernel)",
   "language": "python",
   "name": "python3"
  },
  "language_info": {
   "codemirror_mode": {
    "name": "ipython",
    "version": 3
   },
   "file_extension": ".py",
   "mimetype": "text/x-python",
   "name": "python",
   "nbconvert_exporter": "python",
   "pygments_lexer": "ipython3",
   "version": "3.9.7"
  },
  "latex_envs": {
   "LaTeX_envs_menu_present": true,
   "autoclose": false,
   "autocomplete": true,
   "bibliofile": "biblio.bib",
   "cite_by": "apalike",
   "current_citInitial": 1,
   "eqLabelWithNumbers": true,
   "eqNumInitial": 1,
   "hotkeys": {
    "equation": "Ctrl-E",
    "itemize": "Ctrl-I"
   },
   "labels_anchors": false,
   "latex_user_defs": false,
   "report_style_numbering": false,
   "user_envs_cfg": false
  },
  "toc": {
   "base_numbering": 1,
   "nav_menu": {},
   "number_sections": false,
   "sideBar": true,
   "skip_h1_title": false,
   "title_cell": "Table of Contents",
   "title_sidebar": "Contents",
   "toc_cell": false,
   "toc_position": {},
   "toc_section_display": true,
   "toc_window_display": false
  }
 },
 "nbformat": 4,
 "nbformat_minor": 5
}
