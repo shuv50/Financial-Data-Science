{
 "cells": [
  {
   "cell_type": "markdown",
   "metadata": {},
   "source": [
    "One of the most important disciplines that data science refers is statistics. It is not possible to be a good data scientist without a good statistical basis. Data science takes advantage of statistics in data science applications and interpretation.\n",
    "\n",
    "Therefore, some basic tools and theories to be used in a statistical analysis will be discussed in this less. These:\n",
    "\n",
    "1. Variables and Types of Variables <br>\n",
    "&emsp;1.1. Quantitative and Qualitative Variables <br>\n",
    "&emsp;1.2. Continuous and Discrete Variables <br>\n",
    "2. Measures of Central Tendency <br>\n",
    "&emsp;2.1. Mean <br>\n",
    "&emsp;2.2. Median <br>\n",
    "&emsp;2.3. Mode <br>\n",
    "3. Measure of Dispersion <br>\n",
    "&emsp;3.1. Variance <br>\n",
    "&emsp;3.2. Standard deviation <br>\n",
    "&emsp;3.3. Standard error <br>\n",
    "\n",
    "These issues will provide a basis for the statistical aspect of data science. We will study other concepts and theories related to statistics in the following lessons."
   ]
  },
  {
   "cell_type": "markdown",
   "metadata": {},
   "source": [
    "# 1. Variables and Types of Variables"
   ]
  },
  {
   "cell_type": "markdown",
   "metadata": {},
   "source": [
    "Properties that differ from one particular situation or one experiment to another are called variables. Variables can take different types and can generally be distinguished as follows:"
   ]
  },
  {
   "cell_type": "markdown",
   "metadata": {},
   "source": [
    "## 1.1. Quantitative and Qualitative Variables"
   ]
  },
  {
   "cell_type": "markdown",
   "metadata": {},
   "source": [
    "If the variable can be expressed numerically, it is called a quantitative variable. If this variable is represented by symbols, it is called a qualitative variable."
   ]
  },
  {
   "cell_type": "markdown",
   "metadata": {},
   "source": [
    "## 1.2. Continuous and Discrete Variables"
   ]
  },
  {
   "cell_type": "markdown",
   "metadata": {},
   "source": [
    "A continuous variable is a variable that can take an infinite number of values between any two values. For example, rational numbers between 0 and 1. Discrete variables are variables that can have limited values between two values. For instance, the number of customers traded by the clerk at the bank for 10 minutes is a discrete variable."
   ]
  },
  {
   "cell_type": "code",
   "execution_count": 2,
   "metadata": {},
   "outputs": [
    {
     "name": "stdout",
     "output_type": "stream",
     "text": [
      "0    a\n",
      "1    b\n",
      "2    c\n",
      "3    d\n",
      "dtype: object\n",
      "0    1\n",
      "1    3\n",
      "2    5\n",
      "3    7\n",
      "4    9\n",
      "dtype: int64\n"
     ]
    }
   ],
   "source": [
    "# Example\n",
    "\n",
    "## First, let's import the Pandas library\n",
    "import pandas as pd\n",
    "\n",
    "## Qualitative Variable\n",
    "qualitative = pd.Series(['a','b','c','d'])\n",
    "print(qualitative)\n",
    "\n",
    "## Quantitative Variable\n",
    "quantitative = pd.Series([1,3,5,7,9])\n",
    "print(quantitative)"
   ]
  },
  {
   "cell_type": "markdown",
   "metadata": {},
   "source": [
    "# 2. Measures of Central Tendency"
   ]
  },
  {
   "cell_type": "markdown",
   "metadata": {},
   "source": [
    "Through the central tendency, the central value is shown where the values of a variable in the population are gathered. The most basic central tendency measures are mean or average, median and mode.\n",
    "\n",
    "On the other hand, dispersion measures are a measure of how different the values of the variable are from each other. The most commonly used measures of variance are variance, standard deviation and standard error.\n",
    "\n",
    "Each unit measurement with a variable is a data point. Let's create a data frame with Pandas to work on:"
   ]
  },
  {
   "cell_type": "code",
   "execution_count": 3,
   "metadata": {},
   "outputs": [
    {
     "data": {
      "text/plain": [
       "array([72.21012474, 74.80018504, 68.870561  , 65.81061011, 74.20365768,\n",
       "       67.93538869, 67.39458874, 61.85576095, 62.72898747, 63.82818178,\n",
       "       70.4634367 , 76.56314555, 65.43399762, 69.57373614, 74.57309514,\n",
       "       86.27737091, 62.97718891, 71.41307602, 72.22565899, 62.95429251,\n",
       "       68.05603449, 66.40827681, 56.52906846, 66.26390631, 53.11303068,\n",
       "       77.72862112, 77.74400521, 66.61672981, 63.95294421, 69.77167002,\n",
       "       63.47445724, 78.23946477, 62.1169358 , 54.59824984, 70.03297502,\n",
       "       52.55548653, 75.85540654, 63.50351029, 56.83760522, 54.55680584,\n",
       "       63.6433889 , 70.86217014, 78.25804118, 67.21006609, 53.36757056,\n",
       "       80.23679945, 66.02522399, 66.1201863 , 85.70436528, 70.19472852,\n",
       "       63.60974487, 65.79872753, 85.49528045, 74.58938951, 63.29733451,\n",
       "       66.33539769, 76.288355  , 79.95036474, 75.47527286, 68.64099893,\n",
       "       73.36404897, 64.33253421, 57.89798382, 75.1260161 , 81.41481204,\n",
       "       76.85568093, 51.96941016, 53.9112027 , 82.32695628, 72.11766823,\n",
       "       76.67004838, 69.71510376, 66.13050085, 66.0032459 , 75.88652949,\n",
       "       63.07991921, 71.28372507, 66.28763031, 69.87497115, 74.66457128,\n",
       "       63.87476558, 55.53643644, 67.41068617, 68.09577567, 61.63781926,\n",
       "       75.01901145, 58.97793515, 80.52709141, 65.50620783, 79.70959062,\n",
       "       63.25729671, 64.19100689, 61.19801957, 77.99929874, 86.74783348,\n",
       "       57.37700856, 78.33545169, 62.75249928, 67.33125727, 80.4311148 ,\n",
       "       62.98111481, 61.6989034 , 63.29634566, 61.17992744, 66.07090523,\n",
       "       64.60785571, 69.05638282, 65.43050385, 72.01405918, 59.92843198,\n",
       "       68.5852003 , 61.46007234, 64.33376368, 73.83254644, 69.57311661,\n",
       "       61.17963701, 59.09444504, 63.17751917, 61.14281106, 61.82209369,\n",
       "       61.17819736, 66.39871574, 64.53508748, 63.39472363, 59.65664856,\n",
       "       68.2759841 , 56.30686268, 58.94047298, 69.12483689, 69.3899087 ,\n",
       "       63.30358705, 64.17259771, 67.28916074, 70.34703383, 61.00965267,\n",
       "       57.07634746, 62.79069395, 57.51027028, 70.21059456, 61.82880582,\n",
       "       60.74315835, 67.84638836, 68.97679609, 56.70646615, 67.48629636,\n",
       "       73.34849898, 67.30886747, 70.5236657 , 69.32470978, 58.75580745,\n",
       "       56.89190869, 63.0167148 , 68.0026978 , 66.5970385 , 65.40715881,\n",
       "       65.89921229, 73.29368439, 62.69059879, 59.54798994, 56.58243954,\n",
       "       63.90948461, 64.2601901 , 67.85961498, 61.44886177, 60.14882154,\n",
       "       69.07719584, 67.82048803, 68.86393024, 65.59832091, 54.82666498,\n",
       "       65.90164088, 74.80005242, 59.98853728, 70.24923576, 62.00283696,\n",
       "       61.74144648, 61.4345975 , 63.28215865, 68.84385879, 64.99726598,\n",
       "       62.56164144, 69.10386529, 63.30172466, 60.89550149, 62.53426115,\n",
       "       65.58775542, 60.42462699, 65.93947894, 68.23668875, 69.97979785,\n",
       "       62.19486209, 57.7031054 , 61.00434668, 66.28362743, 65.24336085,\n",
       "       67.79353665, 61.30323764, 64.49701018, 61.39194468, 56.86855304])"
      ]
     },
     "execution_count": 3,
     "metadata": {},
     "output_type": "execute_result"
    }
   ],
   "source": [
    "import numpy as np\n",
    "\n",
    "df = pd.DataFrame()\n",
    "\n",
    "df['age'] = [28, 47, 27, 42, 35, 54, 35]\n",
    "\n",
    "random = np.append(np.random.normal(69, 8, 100), np.random.normal(64, 5, 100))\n",
    "random"
   ]
  },
  {
   "cell_type": "markdown",
   "metadata": {},
   "source": [
    "As mentioned above, the central tendency defines the clustering formed by data points around that point and can be measured by a couple of methods, such as mean, median, or mode. In short, it addresses the question of \"Do central tendency measures and values tend to cluster around a particular point?\"\n",
    "\n",
    "## 2.1. Mean\n",
    "\n",
    "It is the number obtained by summing all the values of a variable and then dividing it by the number of observations. It is also defined as the expected value of the variable.\n",
    "\n",
    "$$ mean = sum (x) / n$$\n",
    "\n",
    "Let's try 2 ways to calculate the mean of the age data below. First with the Python standard library, and then with NumPy:"
   ]
  },
  {
   "cell_type": "code",
   "execution_count": 4,
   "metadata": {},
   "outputs": [
    {
     "name": "stdout",
     "output_type": "stream",
     "text": [
      "38.285714285714285\n",
      "66.16185154085025\n"
     ]
    }
   ],
   "source": [
    "sum(df['age'])/len(df['age'])\n",
    "\n",
    "print(np.mean(df['age']))\n",
    "print(np.mean(random))"
   ]
  },
  {
   "cell_type": "markdown",
   "metadata": {},
   "source": [
    "The mean is easy to understand and is therefore common to use. But, keep in mind that, it is sensitive to extreme values in the data: if you take a very large number and put it into a sample with small in value data, the effect on the average will be very significant. At this point, it is important to remember that each measure has its own advantages and disadvantages and it is best to decide which of these three indicators to use by looking at the data. Because, the structure of a data can be best represented by using the mean from the central tendency measures, while another data structure can be best represented by mode or median.\n",
    "\n",
    "## 2.2. Median\n",
    "\n",
    "The median value is the middle value when sorted from small to large. If there is an odd number of values, the middle value is the median, if there is an even number of values, it is the average of the two values in the middle.\n",
    "\n",
    "\n",
    "Here is an example of the median age that you can calculate with the statistics module from the Python standard library:"
   ]
  },
  {
   "cell_type": "code",
   "execution_count": 17,
   "metadata": {},
   "outputs": [
    {
     "data": {
      "text/plain": [
       "2    27\n",
       "0    28\n",
       "4    35\n",
       "6    35\n",
       "3    42\n",
       "1    47\n",
       "5    54\n",
       "Name: age, dtype: int64"
      ]
     },
     "execution_count": 17,
     "metadata": {},
     "output_type": "execute_result"
    }
   ],
   "source": [
    "df['age'].sort_values()"
   ]
  },
  {
   "cell_type": "code",
   "execution_count": 5,
   "metadata": {},
   "outputs": [
    {
     "name": "stdout",
     "output_type": "stream",
     "text": [
      "35\n",
      "64.7464906527894\n"
     ]
    }
   ],
   "source": [
    "import statistics\n",
    "\n",
    "print(statistics.median(df['age']))\n",
    "print(statistics.median(random))"
   ]
  },
  {
   "cell_type": "markdown",
   "metadata": {},
   "source": [
    "## 2.3. Mode\n",
    "\n",
    "Mode shows the most frequent value in dataset. In other words, the mode analysis determines whether there is more than one clustering in the data. If two or more values repeat the same number, a double mode will occur. If you run the following code with data that contains double mode, you may get an error. The following code will be able to handle double mode data without creating exceptions, but you will get the first mode."
   ]
  },
  {
   "cell_type": "code",
   "execution_count": 20,
   "metadata": {},
   "outputs": [
    {
     "name": "stdout",
     "output_type": "stream",
     "text": [
      "[27 28 35 42 47 54] [1 1 2 1 1 1]\n"
     ]
    }
   ],
   "source": [
    "values, counts = np.unique(df['age'], return_counts= True)\n",
    "print(values, counts)"
   ]
  },
  {
   "cell_type": "code",
   "execution_count": 11,
   "metadata": {},
   "outputs": [
    {
     "data": {
      "text/plain": [
       "35"
      ]
     },
     "execution_count": 11,
     "metadata": {},
     "output_type": "execute_result"
    }
   ],
   "source": [
    "ind = np.argmax(counts)\n",
    "values[ind]"
   ]
  },
  {
   "cell_type": "markdown",
   "metadata": {},
   "source": [
    "* A note on bias: The mean calculated from the sample is considered as an unbiased  estimate of the median and mode population. If an estimate is objective, it best represents the sample population. A biased observation would approach either a value above or below the population value. Bias can be briefly expressed as follows:"
   ]
  },
  {
   "cell_type": "markdown",
   "metadata": {},
   "source": [
    "$$Bias = Sample Mean-Population Mean$$"
   ]
  },
  {
   "cell_type": "markdown",
   "metadata": {},
   "source": [
    "Unbiased estimation is useful, allowing us to observe on a small group to generalize about a larger group. The applications we have shown in this course are on samples. As we will focus on the sample and the population in the last part of this lesson, we stop here."
   ]
  },
  {
   "cell_type": "markdown",
   "metadata": {},
   "source": [
    "# 3. Measure of Dispersion        \n",
    "\n",
    "## 3.1. Variance\n",
    "\n",
    "Although it is important to measure central tendency, it is not enough to understand a variable by itself. To do that, it is necessary to refer to the measures of dispersion. Another important indicator we need to look at to understand a variable is variance.\n",
    "\n",
    "The variance of one variable defines how much the values differ from the central tendency and how each value differs from the other. If all values in a variable are close to the central tendency, the variance will be very small. If the values are far from the central tendency, the variance will be very high.\n",
    "\n",
    "Another way to understand the variance is: The variance gives a hint about how valuable each data point is within the variable. If the variance is low, many data points are similar to the central tendency, so each data point can give little different information about the concept being measured. If the variance is high, each data point will be able to provide new and different information about the measurement.\n",
    "\n",
    "While many people find the mean and work on it, data scientists often work on variance. Because data scientists try to understand why the variable subject of the research behaves differently. The question of why is this store's margin higher than others? Why are the side effects of this drug so much less than other drugs? Why do some customers spend more time on the company's website? are related to variance. A variable with a high variance gives the pecularities about observations, so that data scientists use them to understand the future outcomes.\n",
    "\n",
    "The variance is calculated by dividing the sum of the squares of the difference of each data point to the average by one missing number of observations.\n",
    "\n",
    "$$\n",
    "v=\\frac{\\sum_i (x_i-\\mu)^2}{(n-1)}\n",
    "$$\n",
    "\n",
    "Here, $\\mu$ denotes the population mean.\n",
    "\n",
    "There are two weird observations in calculating variance. Why is the difference squared and why is it divided by (n-1) but not n?\n",
    "\n",
    "In response to the first question, if the difference is taken based on the mean, the sum would be zero because half would be negative and half would be positive. We make negative values useful by taking the square. Of course, we could calculate by taking the absolute value, so that we could use negative values. There are other mathematical benefits of squaring, which we will discuss later. The answer to why we received n-1 bias is not related to the discussion for now."
   ]
  },
  {
   "cell_type": "code",
   "execution_count": 22,
   "metadata": {},
   "outputs": [
    {
     "name": "stdout",
     "output_type": "stream",
     "text": [
      "98.57142857142857\n",
      "98.57142857142857\n"
     ]
    }
   ],
   "source": [
    "print(np.var(df['age'], ddof = 1))\n",
    "print(df['age'].var())"
   ]
  },
  {
   "cell_type": "markdown",
   "metadata": {},
   "source": [
    "## 3.2. Standard deviation\n",
    "\n",
    "One of the most commonly used statistic to measure variability is the square root of variance, which we call standard deviation. There are some mathematical benefits of taking the square root of variance, but we will see this in more detail in explaining the central limit theorem in lessons ahead. Standard deviation formula is:\n",
    "\n",
    "$$\n",
    "s=\\sqrt v\n",
    "$$\n",
    "\n",
    "Numpy gives us the standard deviation with the np.std () function. Numpy has a deceptive nuance when calculating the standard deviation of the population. Instead of dividing by n-1, it divides by n. To calculate the standard deviation of the population, we manually need the ddof (degrees of freedom) parameter:"
   ]
  },
  {
   "cell_type": "code",
   "execution_count": 19,
   "metadata": {},
   "outputs": [
    {
     "data": {
      "text/plain": [
       "9.92831448793946"
      ]
     },
     "execution_count": 19,
     "metadata": {},
     "output_type": "execute_result"
    }
   ],
   "source": [
    "df['age'].std()"
   ]
  },
  {
   "cell_type": "code",
   "execution_count": 24,
   "metadata": {},
   "outputs": [
    {
     "name": "stdout",
     "output_type": "stream",
     "text": [
      "9.92831448793946\n",
      "6.928837915181805\n"
     ]
    }
   ],
   "source": [
    "print(np.std(df['age'], ddof=1))\n",
    "print(np.std(random, ddof=1))"
   ]
  },
  {
   "cell_type": "markdown",
   "metadata": {},
   "source": [
    "## 3.3. Standard error\n",
    "\n",
    "Another indicator commonly used to determine the dispersion in the data is the standard error. The standard error is a measure of the uncertainty of the sample mean. Standard deviation gives us information about variance, while standard error gives us information about mean.\n",
    "\n",
    "Survey results are a good example of standard error utilization. It is commonly known as error margin. For example, a survey results say 44% supports X and 3% says there may be a standard error. In other words, when the selection is over, the results can be between 41% and 47%. The smaller the standard error, the more accurate the measurement means.\n",
    "\n",
    "The standard error is found by dividing standard deviation by the square root of the number of observations:\n",
    "\n",
    "$$\n",
    "se=\\frac{s}{\\sqrt n}\n",
    "$$"
   ]
  },
  {
   "cell_type": "code",
   "execution_count": 18,
   "metadata": {},
   "outputs": [
    {
     "data": {
      "text/plain": [
       "3.7525501533039134"
      ]
     },
     "execution_count": 18,
     "metadata": {},
     "output_type": "execute_result"
    }
   ],
   "source": [
    "np.std(df['age'], ddof=1)/np.sqrt(len(df.age))"
   ]
  },
  {
   "cell_type": "markdown",
   "metadata": {},
   "source": [
    "Let's see how more precise results can be obtained when we increase the number of samples. Now, let's create two variables: one with low volatility and one with high volatility:"
   ]
  },
  {
   "cell_type": "code",
   "execution_count": 20,
   "metadata": {},
   "outputs": [
    {
     "data": {
      "image/png": "[encoded data removed]",
      "text/plain": [
       "<Figure size 432x288 with 2 Axes>"
      ]
     },
     "metadata": {
      "needs_background": "light"
     },
     "output_type": "display_data"
    }
   ],
   "source": [
    "import matplotlib.pyplot as plt\n",
    "\n",
    "pop = pd.DataFrame()\n",
    "\n",
    "pop['low_var'] = np.random.normal(60, 10, 10000)\n",
    "pop['high_var'] = np.random.normal(60, 20, 10000)\n",
    "pop.hist(layout=(2,1))\n",
    "plt.show()"
   ]
  },
  {
   "cell_type": "markdown",
   "metadata": {},
   "source": [
    "Let's compare the variable with the higher variance to the variable with the lower variance. As can be seen, the population with a high variance is more spread. This shows that this population has more value in the right and left tails. If these variables are the values of the two populations, we would take samples from each of them and generalize them. Now let's try this:"
   ]
  },
  {
   "cell_type": "markdown",
   "metadata": {},
   "source": [
    "Because the sample is randomly selected from the population, you can run the code again each time and try it on the new sample. We recommend you try it a few times. You will find that the sample with low variability is closer to the population mean and standard deviation than the sample with high variability.\n"
   ]
  },
  {
   "cell_type": "markdown",
   "metadata": {},
   "source": [
    "Each time a sample is selected from the population, we may draw outlier values from the extreme points of the distribution. Taking values from the extremes may shift the mean of the sample from the population mean. Therefore, high variability variables have greater potential to move away from the mean than low variables. We can address this problem by increasing the number of samples as much as possible. We will discuss this in detail later."
   ]
  }
 ],
 "metadata": {
  "kernelspec": {
   "display_name": "Python 3",
   "language": "python",
   "name": "python3"
  },
  "language_info": {
   "codemirror_mode": {
    "name": "ipython",
    "version": 3
   },
   "file_extension": ".py",
   "mimetype": "text/x-python",
   "name": "python",
   "nbconvert_exporter": "python",
   "pygments_lexer": "ipython3",
   "version": "3.7.3"
  },
  "latex_envs": {
   "LaTeX_envs_menu_present": true,
   "autoclose": false,
   "autocomplete": true,
   "bibliofile": "biblio.bib",
   "cite_by": "apalike",
   "current_citInitial": 1,
   "eqLabelWithNumbers": true,
   "eqNumInitial": 1,
   "hotkeys": {
    "equation": "Ctrl-E",
    "itemize": "Ctrl-I"
   },
   "labels_anchors": false,
   "latex_user_defs": false,
   "report_style_numbering": false,
   "user_envs_cfg": false
  },
  "toc": {
   "base_numbering": 1,
   "nav_menu": {},
   "number_sections": false,
   "sideBar": true,
   "skip_h1_title": false,
   "title_cell": "Table of Contents",
   "title_sidebar": "Contents",
   "toc_cell": false,
   "toc_position": {},
   "toc_section_display": true,
   "toc_window_display": false
  }
 },
 "nbformat": 4,
 "nbformat_minor": 4
}
