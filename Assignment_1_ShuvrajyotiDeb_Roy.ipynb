{
  "cells": [
    {
      "cell_type": "markdown",
      "metadata": {
        "id": "YMiE-WjtCHxl"
      },
      "source": [
        "# Assignment 1 ShuvrajyotiDeb Roy"
      ]
    },
    {
      "cell_type": "markdown",
      "metadata": {
        "id": "ghDmeBH2CHxp"
      },
      "source": [
        "__Q1__. Generate a random sample using a distribution of your choice via `np.random` package. Then, using normal distribution as a benchmark distribution (on the x-axis) please, \n",
        "\n",
        "a) Draw the histogram and interpret \n",
        "\n",
        "b) Draw Q-Q plot and interpret"
      ]
    },
    {
      "cell_type": "code",
      "execution_count": 19,
      "metadata": {
        "colab": {
          "base_uri": "https://localhost:8080/",
          "height": 265
        },
        "id": "p08RxuovCHxq",
        "outputId": "12d109cc-51c7-4455-e27f-96cb968638b4"
      },
      "outputs": [
        {
          "output_type": "display_data",
          "data": {
            "text/plain": [
              "<Figure size 432x288 with 1 Axes>"
            ],
            "image/png": "[encoded data removed]"
          },
          "metadata": {
            "needs_background": "light"
          }
        }
      ],
      "source": [
        "import pandas as pd\n",
        "import numpy as np\n",
        "import matplotlib.pyplot as plt\n",
        "\n",
        "x = np.random.normal(0, 1, 10000)\n",
        "plt.hist(x);"
      ]
    },
    {
      "cell_type": "markdown",
      "source": [
        "A histogram is a graphical representation of data that groups the data into ranges, called bins, and displays the frequency of the data points in each bin. It is a way of visualizing the distribution of a set of continuous or discrete data values. The height of each bar in the histogram represents the frequency of the data points that fall within the range of the bin. By examining a histogram, one can quickly identify the shape of the distribution, including skewness, symmetry, and the presence of outliers.\n",
        "\n",
        "Here we can see the data is normally distributed and symmetrical (mean=0 and standard deviation=1), no skewness or presence of outliers. "
      ],
      "metadata": {
        "id": "uEPAO-zhbTwK"
      }
    },
    {
      "cell_type": "code",
      "source": [
        "from scipy import stats\n",
        "stats.probplot(x, plot=plt)\n",
        "plt.show()"
      ],
      "metadata": {
        "colab": {
          "base_uri": "https://localhost:8080/",
          "height": 295
        },
        "id": "A0O-lcAsI1Uz",
        "outputId": "19e23494-0bfe-41f8-ba95-5fc9bdb341d8"
      },
      "execution_count": 20,
      "outputs": [
        {
          "output_type": "display_data",
          "data": {
            "text/plain": [
              "<Figure size 432x288 with 1 Axes>"
            ],
            "image/png": "[encoded data removed]"
          },
          "metadata": {
            "needs_background": "light"
          }
        }
      ]
    },
    {
      "cell_type": "markdown",
      "source": [
        "In a Q-Q plot, the quantiles of the sample data are plotted against the theoretical quantiles of the specified distribution on a scatter plot. If the sample data comes from the specified distribution, the points in the Q-Q plot should fall approximately along a straight line. If the points deviate significantly from a straight line, it indicates that the sample data does not come from the specified distribution.\n",
        "\n",
        "Here in our case, the data is normally distributed"
      ],
      "metadata": {
        "id": "Oeq3PLvIc5LX"
      }
    },
    {
      "cell_type": "markdown",
      "metadata": {
        "id": "eHmaBK9MCHxs"
      },
      "source": [
        "__Q2__. Import `aapl.csv` data and plot the histogram and calculate the mean and standard deviation. Comment on these statistics."
      ]
    },
    {
      "cell_type": "code",
      "execution_count": 21,
      "metadata": {
        "colab": {
          "base_uri": "https://localhost:8080/",
          "height": 204
        },
        "id": "ueI2ViBhCHxt",
        "outputId": "8342e8e4-af7e-4e98-ddb2-efd387dcf1e2"
      },
      "outputs": [
        {
          "output_type": "execute_result",
          "data": {
            "text/plain": [
              "         Date      Close\n",
              "0  2019-12-31  73.412498\n",
              "1  2020-01-02  75.087502\n",
              "2  2020-01-03  74.357498\n",
              "3  2020-01-06  74.949997\n",
              "4  2020-01-07  74.597504"
            ],
            "text/html": [
              "\n",
              "  <div id=\"df-078a3071-9039-448e-b4b8-e343c8482d13\">\n",
              "    <div class=\"colab-df-container\">\n",
              "      <div>\n",
              "<style scoped>\n",
              "    .dataframe tbody tr th:only-of-type {\n",
              "        vertical-align: middle;\n",
              "    }\n",
              "\n",
              "    .dataframe tbody tr th {\n",
              "        vertical-align: top;\n",
              "    }\n",
              "\n",
              "    .dataframe thead th {\n",
              "        text-align: right;\n",
              "    }\n",
              "</style>\n",
              "<table border=\"1\" class=\"dataframe\">\n",
              "  <thead>\n",
              "    <tr style=\"text-align: right;\">\n",
              "      <th></th>\n",
              "      <th>Date</th>\n",
              "      <th>Close</th>\n",
              "    </tr>\n",
              "  </thead>\n",
              "  <tbody>\n",
              "    <tr>\n",
              "      <th>0</th>\n",
              "      <td>2019-12-31</td>\n",
              "      <td>73.412498</td>\n",
              "    </tr>\n",
              "    <tr>\n",
              "      <th>1</th>\n",
              "      <td>2020-01-02</td>\n",
              "      <td>75.087502</td>\n",
              "    </tr>\n",
              "    <tr>\n",
              "      <th>2</th>\n",
              "      <td>2020-01-03</td>\n",
              "      <td>74.357498</td>\n",
              "    </tr>\n",
              "    <tr>\n",
              "      <th>3</th>\n",
              "      <td>2020-01-06</td>\n",
              "      <td>74.949997</td>\n",
              "    </tr>\n",
              "    <tr>\n",
              "      <th>4</th>\n",
              "      <td>2020-01-07</td>\n",
              "      <td>74.597504</td>\n",
              "    </tr>\n",
              "  </tbody>\n",
              "</table>\n",
              "</div>\n",
              "      <button class=\"colab-df-convert\" onclick=\"convertToInteractive('df-078a3071-9039-448e-b4b8-e343c8482d13')\"\n",
              "              title=\"Convert this dataframe to an interactive table.\"\n",
              "              style=\"display:none;\">\n",
              "        \n",
              "  <svg xmlns=\"http://www.w3.org/2000/svg\" height=\"24px\"viewBox=\"0 0 24 24\"\n",
              "       width=\"24px\">\n",
              "    <path d=\"M0 0h24v24H0V0z\" fill=\"none\"/>\n",
              "    <path d=\"M18.56 5.44l.94 2.06.94-2.06 2.06-.94-2.06-.94-.94-2.06-.94 2.06-2.06.94zm-11 1L8.5 8.5l.94-2.06 2.06-.94-2.06-.94L8.5 2.5l-.94 2.06-2.06.94zm10 10l.94 2.06.94-2.06 2.06-.94-2.06-.94-.94-2.06-.94 2.06-2.06.94z\"/><path d=\"M17.41 7.96l-1.37-1.37c-.4-.4-.92-.59-1.43-.59-.52 0-1.04.2-1.43.59L10.3 9.45l-7.72 7.72c-.78.78-.78 2.05 0 2.83L4 21.41c.39.39.9.59 1.41.59.51 0 1.02-.2 1.41-.59l7.78-7.78 2.81-2.81c.8-.78.8-2.07 0-2.86zM5.41 20L4 18.59l7.72-7.72 1.47 1.35L5.41 20z\"/>\n",
              "  </svg>\n",
              "      </button>\n",
              "      \n",
              "  <style>\n",
              "    .colab-df-container {\n",
              "      display:flex;\n",
              "      flex-wrap:wrap;\n",
              "      gap: 12px;\n",
              "    }\n",
              "\n",
              "    .colab-df-convert {\n",
              "      background-color: #E8F0FE;\n",
              "      border: none;\n",
              "      border-radius: 50%;\n",
              "      cursor: pointer;\n",
              "      display: none;\n",
              "      fill: #1967D2;\n",
              "      height: 32px;\n",
              "      padding: 0 0 0 0;\n",
              "      width: 32px;\n",
              "    }\n",
              "\n",
              "    .colab-df-convert:hover {\n",
              "      background-color: #E2EBFA;\n",
              "      box-shadow: 0px 1px 2px rgba(60, 64, 67, 0.3), 0px 1px 3px 1px rgba(60, 64, 67, 0.15);\n",
              "      fill: #174EA6;\n",
              "    }\n",
              "\n",
              "    [theme=dark] .colab-df-convert {\n",
              "      background-color: #3B4455;\n",
              "      fill: #D2E3FC;\n",
              "    }\n",
              "\n",
              "    [theme=dark] .colab-df-convert:hover {\n",
              "      background-color: #434B5C;\n",
              "      box-shadow: 0px 1px 3px 1px rgba(0, 0, 0, 0.15);\n",
              "      filter: drop-shadow(0px 1px 2px rgba(0, 0, 0, 0.3));\n",
              "      fill: #FFFFFF;\n",
              "    }\n",
              "  </style>\n",
              "\n",
              "      <script>\n",
              "        const buttonEl =\n",
              "          document.querySelector('#df-078a3071-9039-448e-b4b8-e343c8482d13 button.colab-df-convert');\n",
              "        buttonEl.style.display =\n",
              "          google.colab.kernel.accessAllowed ? 'block' : 'none';\n",
              "\n",
              "        async function convertToInteractive(key) {\n",
              "          const element = document.querySelector('#df-078a3071-9039-448e-b4b8-e343c8482d13');\n",
              "          const dataTable =\n",
              "            await google.colab.kernel.invokeFunction('convertToInteractive',\n",
              "                                                     [key], {});\n",
              "          if (!dataTable) return;\n",
              "\n",
              "          const docLinkHtml = 'Like what you see? Visit the ' +\n",
              "            '<a target=\"_blank\" href=https://colab.research.google.com/notebooks/data_table.ipynb>data table notebook</a>'\n",
              "            + ' to learn more about interactive tables.';\n",
              "          element.innerHTML = '';\n",
              "          dataTable['output_type'] = 'display_data';\n",
              "          await google.colab.output.renderOutput(dataTable, element);\n",
              "          const docLink = document.createElement('div');\n",
              "          docLink.innerHTML = docLinkHtml;\n",
              "          element.appendChild(docLink);\n",
              "        }\n",
              "      </script>\n",
              "    </div>\n",
              "  </div>\n",
              "  "
            ]
          },
          "metadata": {},
          "execution_count": 21
        }
      ],
      "source": [
        "df_aapl = pd.read_csv('/content/aapl.csv')\n",
        "df_aapl.head()"
      ]
    },
    {
      "cell_type": "code",
      "source": [
        "print(df_aapl.describe(), '\\n')\n",
        "\n",
        "mean = np.mean(df_aapl['Close'])\n",
        "std = df_aapl['Close'].std()\n",
        "\n",
        "print(f\"Mean: {mean}\")\n",
        "print(f\"Standard Deviation: {std}\")"
      ],
      "metadata": {
        "colab": {
          "base_uri": "https://localhost:8080/"
        },
        "id": "43AU8iuLKZkW",
        "outputId": "d0b61c9c-9abf-4bdc-e6dd-e85ca51d64e7"
      },
      "execution_count": 22,
      "outputs": [
        {
          "output_type": "stream",
          "name": "stdout",
          "text": [
            "            Close\n",
            "count  399.000000\n",
            "mean   108.362989\n",
            "std     25.008273\n",
            "min     56.092499\n",
            "25%     80.869999\n",
            "50%    116.599998\n",
            "75%    127.840000\n",
            "max    149.149994 \n",
            "\n",
            "Mean: 108.36298857954212\n",
            "Standard Deviation: 25.008273382641075\n"
          ]
        }
      ]
    },
    {
      "cell_type": "markdown",
      "source": [
        "In apple stocks data, mean is 108.36298857954212 and standard deviation is 25.008273 with total records of 399\n",
        "\n",
        "Also it has a minimum value of 56.092499 dollars and maximum $149.149994 dollars closing price with a median of 116.599998 dollars"
      ],
      "metadata": {
        "id": "_ZR7dbK_daGV"
      }
    },
    {
      "cell_type": "markdown",
      "metadata": {
        "id": "H4LdWghACHxt"
      },
      "source": [
        "__Q3__. Given the mean return and standard deviation of apple stock, calculate the confidence interval for return mean.\n",
        "\n",
        "**Hint-1:** Use z-table for the critical value and justify why you are using z-table.\n",
        "\n",
        "**Hint-2:** The confidence interval can be computed as:\n",
        "\\begin{equation}\n",
        "\\overline{Y} + z_{\\alpha/2, n-1}s_{\\overline{Y}}\n",
        "\\end{equation}"
      ]
    },
    {
      "cell_type": "code",
      "execution_count": 23,
      "metadata": {
        "colab": {
          "base_uri": "https://localhost:8080/"
        },
        "id": "CYtsYIqoCHxu",
        "outputId": "a47bbb5e-38d6-4f12-81a9-ea72db5c6fed"
      },
      "outputs": [
        {
          "output_type": "stream",
          "name": "stdout",
          "text": [
            "Error margin: 1.2506205550318947\n"
          ]
        }
      ],
      "source": [
        "error_margin = ((std)*np.sqrt(std))/np.sqrt(10000)\n",
        "print(f'Error margin: {error_margin}')"
      ]
    },
    {
      "cell_type": "code",
      "source": [
        "upper_bound = mean + error_margin\n",
        "lower_bound = mean - error_margin\n",
        "print(f'Upper bound: {upper_bound}')\n",
        "print(f'Lower bound: {lower_bound}')"
      ],
      "metadata": {
        "colab": {
          "base_uri": "https://localhost:8080/"
        },
        "id": "lt1MEz10OT1a",
        "outputId": "143c055d-1144-4dc7-e3f8-ebef33be6d93"
      },
      "execution_count": 24,
      "outputs": [
        {
          "output_type": "stream",
          "name": "stdout",
          "text": [
            "Upper bound: 109.61360913457402\n",
            "Lower bound: 107.11236802451022\n"
          ]
        }
      ]
    },
    {
      "cell_type": "markdown",
      "source": [
        "A z-table is a table that provides critical values of the standard normal distribution (also known as a z-score), which is a normal distribution with a mean of 0 and a standard deviation of 1. The critical values are used to determine the probability of observing a z-score that is less than or equal to a certain value, given the standard normal distribution.\n",
        "\n",
        "The critical value is commonly used in hypothesis testing and statistical analysis to determine the level of significance and to make inferences about a population based on a sample of data. The z-table is a useful tool for finding critical values and making probabilistic decisions in statistical analysis."
      ],
      "metadata": {
        "id": "jDsS-j63gLrU"
      }
    }
  ],
  "metadata": {
    "kernelspec": {
      "display_name": "Python 3",
      "language": "python",
      "name": "python3"
    },
    "language_info": {
      "codemirror_mode": {
        "name": "ipython",
        "version": 3
      },
      "file_extension": ".py",
      "mimetype": "text/x-python",
      "name": "python",
      "nbconvert_exporter": "python",
      "pygments_lexer": "ipython3",
      "version": "3.7.3"
    },
    "latex_envs": {
      "LaTeX_envs_menu_present": true,
      "autoclose": false,
      "autocomplete": true,
      "bibliofile": "biblio.bib",
      "cite_by": "apalike",
      "current_citInitial": 1,
      "eqLabelWithNumbers": true,
      "eqNumInitial": 1,
      "hotkeys": {
        "equation": "Ctrl-E",
        "itemize": "Ctrl-I"
      },
      "labels_anchors": false,
      "latex_user_defs": false,
      "report_style_numbering": false,
      "user_envs_cfg": false
    },
    "toc": {
      "base_numbering": 1,
      "nav_menu": {},
      "number_sections": false,
      "sideBar": true,
      "skip_h1_title": false,
      "title_cell": "Table of Contents",
      "title_sidebar": "Contents",
      "toc_cell": false,
      "toc_position": {},
      "toc_section_display": true,
      "toc_window_display": false
    },
    "colab": {
      "provenance": []
    }
  },
  "nbformat": 4,
  "nbformat_minor": 0
}