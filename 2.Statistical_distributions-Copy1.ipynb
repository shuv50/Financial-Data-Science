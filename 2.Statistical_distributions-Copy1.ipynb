{
 "cells": [
  {
   "cell_type": "markdown",
   "metadata": {},
   "source": [
    "# Statistical Distributions"
   ]
  },
  {
   "cell_type": "markdown",
   "metadata": {},
   "source": [
    "As a data scientist, you use statistical inferences to examine the structure of the data and to predict through it. In order to make these statistical inferences, it is necessary to know the probability distributions of the data. In this section, we will study some of the distributions that data scientists often use and which are of great importance for data science applications.\n",
    "\n",
    "When we start working on a dataset that is defined by a distribution, we should ask the following four basic questions to the raw data:\n",
    "\n",
    "* Does the data set consist of categorical data or continuous data?\n",
    "* Are the data distributed symmetrically? In other words, are the values to the left and right of the mean equal or close to equal?\n",
    "* Are there any upper or lower limits of the values that the data can take? For example, unemployment data cannot be below zero.\n",
    "* Are outliers observed when the data is distributed?\n",
    "\n",
    "The answers to these questions give clues about the similar data distributions. Therefore, before we begin to analyze the data, we must be familiar with the data very well.\n",
    "\n",
    "It is very useful for us to know the probability distributions here. In this lesson we will introduce the following distributions that are frequently used in statistical analysis:\n",
    "\n",
    "* Normal (Gaussian) Distribution\n",
    "* Bernoulli Distribution\n",
    "* Binomial Distribution\n",
    "* Uniform Distribution"
   ]
  },
  {
   "cell_type": "markdown",
   "metadata": {},
   "source": [
    "# 1. Normal Distribution\n",
    "\n",
    "Normal distribution has an important role in statistics and is the most widely used distribution. It is also called the Gaussian distribution because it was discovered by the German mathematician Carl Friedrich Gauss. It describes many cases that we encounter in daily life. Simply put, if most values in the distribution are clustered around the mean, the rest is defined as normal or normally distributed if symmetrically to the right and left of the mean.\n",
    "\n",
    "The normal distribution is defined by two parameters: Mean $(\\mu)$ and standard deviation $(\\sigma)$. In other words, mean and standard deviation and normal distribution can be defined. The probability density is normally as a function for a distributed variable:\n",
    "\n",
    "$$\n",
    "f(x|\\mu,\\sigma^2)=\\frac{1}{\\sqrt{2\\sigma^2\\pi}}e^{-\\frac{(x-\\mu)^2}{2\\sigma^2}}\n",
    "$$\n",
    "\n",
    "Below is the probability density function of three normally distributed variables with the same mean but with different standard deviation in the graph on the left, and the probability density function of three variables with the same standard deviation but different mean."
   ]
  },
  {
   "cell_type": "code",
   "execution_count": 1,
   "metadata": {},
   "outputs": [],
   "source": [
    "import numpy as np\n",
    "import pandas as pd\n",
    "from scipy.stats import norm\n",
    "import matplotlib.pyplot as plt"
   ]
  },
  {
   "cell_type": "code",
   "execution_count": 2,
   "metadata": {},
   "outputs": [],
   "source": [
    "normal_mean_1 = np.random.normal(10, 1, 1000)\n",
    "normal_mean_2 = np.random.normal(100, 1, 1000)"
   ]
  },
  {
   "cell_type": "code",
   "execution_count": 7,
   "metadata": {},
   "outputs": [
    {
     "data": {
      "image/png": "[encoded data removed]",
      "text/plain": [
       "<Figure size 432x288 with 2 Axes>"
      ]
     },
     "metadata": {
      "needs_background": "light"
     },
     "output_type": "display_data"
    }
   ],
   "source": [
    "plt.subplot(2, 1, 1)\n",
    "plt.hist(normal_mean_1)\n",
    "plt.title('Normal Dist. with mean of 10')\n",
    "plt.subplot(2, 1, 2)\n",
    "plt.hist(normal_mean_2)\n",
    "plt.title('Normal Dist. with mean of 100')\n",
    "plt.show()"
   ]
  },
  {
   "cell_type": "markdown",
   "metadata": {},
   "source": [
    "Examining these graphs reveals that the normal distribution is symmetric with respect to the x = $\\mu$ line and the mean ($\\mu$) divides the area into two equal parts.\n",
    "\n",
    "Let's create the Probability Density Function (pdf) for the normal distribution. To do this, we  generate x values from the numpy library with the `linspace ()` function and generate y values with the pdf function in the norm module of the `scipy.stats` library. "
   ]
  },
  {
   "cell_type": "code",
   "execution_count": 2,
   "metadata": {},
   "outputs": [
    {
     "data": {
      "image/png": "[encoded data removed]",
      "text/plain": [
       "<Figure size 432x288 with 1 Axes>"
      ]
     },
     "metadata": {
      "needs_background": "light"
     },
     "output_type": "display_data"
    }
   ],
   "source": [
    "mu = 0\n",
    "std = 7\n",
    "x = np.linspace(-30, 30, 100)\n",
    "y = norm.pdf(x, mu, std)\n",
    "plt.plot(x, y)\n",
    "plt.show()"
   ]
  },
  {
   "cell_type": "markdown",
   "metadata": {},
   "source": [
    "Around 68% of the data points in a normally distributed variable are above or below a standard deviation of the mean value. 95% of these values are two standard deviations of the mean and 99.7% are above or below three standard deviations of the mean.\n",
    "\n",
    "<img src=\"norm_dist.png\" width=\"600\">\n",
    "\n",
    "To create a normally distributed variable, we can use the `norm ()` function in the random module of the numpy library. For this purpose, it is sufficient to determine an average ($\\mu$), standard deviation ($\\sigma$) and number of observations (n). Generate a normally distributed data with 10000 observations, mean is 0 and a standard deviation is 1. Let's plot its histogram."
   ]
  },
  {
   "cell_type": "code",
   "execution_count": 4,
   "metadata": {},
   "outputs": [
    {
     "data": {
      "image/png": "[encoded data removed]",
      "text/plain": [
       "<Figure size 432x288 with 1 Axes>"
      ]
     },
     "metadata": {
      "needs_background": "light"
     },
     "output_type": "display_data"
    }
   ],
   "source": [
    "mu = 0\n",
    "std = 1\n",
    "n = 1000\n",
    "sample = np.random.normal(mu, std, n)\n",
    "plt.hist(sample);"
   ]
  },
  {
   "cell_type": "markdown",
   "metadata": {},
   "source": [
    "Now let's combine both the histogram and the line plot of the probability density function. Thus, we better understand how the probability density function can be used. Note that we use the formula of the probability density function when plotting the graph below!"
   ]
  },
  {
   "cell_type": "markdown",
   "metadata": {},
   "source": [
    "As seen in the figure above, there is a symmetrical distribution of about 0.5 which is the average of the distribution.\n",
    "\n",
    "\n",
    "Normal distribution is very important for data scientists. Because:\n",
    "\n",
    "* It can be easily summarized by only two statistical parameters (mean ($\\mu$) and standard deviation ($\\sigma$).\n",
    "* The area under the curve is 1, which makes it easy to calculate the probability of discrete results within the distribution.\n",
    "* In many areas such as psychology and finance, data are closely distributed to normal.\n",
    "* In general, any variable that measures the outcome of many minor effects is independently close to the normal distribution.\n",
    "* Many of the common indicators (z-score) and statistical tests (t-tests, ANOVAs, bell curve) are based on the assumption of normal distribution of data. Thus, the normal distribution is easy to use and is therefore widely used.\n",
    "\n",
    "\n",
    "The normal distribution of $\\mu$ = 1 and $\\sigma$ = 0 is called the standard normal distribution"
   ]
  },
  {
   "cell_type": "markdown",
   "metadata": {},
   "source": [
    "## 1.1. Deviation from Normal Distribution"
   ]
  },
  {
   "cell_type": "markdown",
   "metadata": {},
   "source": [
    "Unfortunately, the fact that the normal distribution is so useful often leads to the \"assumed\" distribution in people's minds. However, unlike ideal mathematical concepts, real data is never perfect. Some data may show a distribution close to normal distribution more than others. If data that is not normally distributed is treated as normal, it may lead to incorrect mapping between statistics and data and false results."
   ]
  },
  {
   "cell_type": "markdown",
   "metadata": {},
   "source": [
    "##  1.2. QQ Plots"
   ]
  },
  {
   "cell_type": "markdown",
   "metadata": {},
   "source": [
    "It is wise to observe how data is distributed through histograms and quantile-quantile (QQ plots).\n",
    "First, let's look at the concept of quantile. We studied the concept of median in the previous lesson. When we sort the data in the data set from small to large, we call the data in the middle as median. The 50% here is not about the size of the data, but about the number of observations in the data set. We can find out which quarter of a data corresponds to all the data."
   ]
  },
  {
   "cell_type": "markdown",
   "metadata": {},
   "source": [
    "QQ charts are used to compare the distributions of two different data sets. If we know the distribution of one of the data sets we compare and the other one is similar to this data set, we can say that it has the same distribution as the distribution."
   ]
  },
  {
   "cell_type": "markdown",
   "metadata": {},
   "source": [
    "To compare the two samples, we first sort them in ascending order. Intuitively, if the two samples come from the same distribution, the items at a given position in the sorted samples will tend to be \"similar\". (For instance, we'd expect the 10% quantiles, the 20% quantiles, the medians, and so on, to be similar.) We visualize this idea by plotting the sorted samples, using one sample for the x axis and the other one for the y axis. If the samples have been generated from the same distribution, this plot will show something similar to a straight line. (For large sample sizes, the line becomes clearer.)"
   ]
  },
  {
   "cell_type": "code",
   "execution_count": 5,
   "metadata": {},
   "outputs": [
    {
     "data": {
      "text/plain": [
       "[<matplotlib.lines.Line2D at 0x7fed8d87faf0>]"
      ]
     },
     "execution_count": 5,
     "metadata": {},
     "output_type": "execute_result"
    },
    {
     "data": {
      "image/png": "[encoded data removed]",
      "text/plain": [
       "<Figure size 432x288 with 1 Axes>"
      ]
     },
     "metadata": {
      "needs_background": "light"
     },
     "output_type": "display_data"
    }
   ],
   "source": [
    "n = 1000\n",
    "sample1 = np.random.normal(3, 1, n)\n",
    "sample2 = np.random.normal(3, 1, n)\n",
    "plt.plot(sorted(sample1), sorted(sample2))"
   ]
  },
  {
   "cell_type": "markdown",
   "metadata": {},
   "source": [
    "In the example above, we used two samples from the same distribution and the plot was a straight line. On the other hand, if we compare two samples from different distributions, the plot is clearly not a straight line."
   ]
  },
  {
   "cell_type": "code",
   "execution_count": 12,
   "metadata": {},
   "outputs": [
    {
     "data": {
      "image/png": "[encoded data removed]",
      "text/plain": [
       "<Figure size 432x288 with 1 Axes>"
      ]
     },
     "metadata": {
      "needs_background": "light"
     },
     "output_type": "display_data"
    }
   ],
   "source": [
    "sample3 = np.random.random(size=n)\n",
    "plt.plot(sorted(sample1), sorted(sample3))\n",
    "plt.xlabel('sample1')\n",
    "plt.ylabel('sample3')\n",
    "plt.show()"
   ]
  },
  {
   "cell_type": "markdown",
   "metadata": {},
   "source": [
    "Now, instead of comparing two samples, let's assume that we have one sample and we ask if that sample was generated by a normal distribution. In that case, we replace the second sample by the theoretical quantiles defined by the distribution."
   ]
  },
  {
   "cell_type": "markdown",
   "metadata": {},
   "source": [
    "SciPy has a built-in function for that purpose. (If we don't specify a distribution, it will use a normal distribution by default.)"
   ]
  },
  {
   "cell_type": "code",
   "execution_count": 16,
   "metadata": {},
   "outputs": [
    {
     "data": {
      "image/png": "[encoded data removed]",
      "text/plain": [
       "<Figure size 432x288 with 1 Axes>"
      ]
     },
     "metadata": {
      "needs_background": "light"
     },
     "output_type": "display_data"
    }
   ],
   "source": [
    "from scipy import stats\n",
    "stats.probplot(sample1, plot=plt)\n",
    "plt.show()"
   ]
  },
  {
   "cell_type": "markdown",
   "metadata": {},
   "source": [
    "Let us  zoom in the steps we have taken so far:"
   ]
  },
  {
   "cell_type": "markdown",
   "metadata": {},
   "source": [
    "* Observations are sorted in ascending order.\n",
    "* The benchmark distribution is then plotted against each of them on the x-axis and the unknown variable on the y-axis.\n",
    "* If the unknown distribution shares the same distribution as the known variable, the result must be a straight line from the bottom left to the top right.\n",
    "* Deviations from the straight line indicate that the data does not fully match the distribution.\n"
   ]
  },
  {
   "cell_type": "markdown",
   "metadata": {},
   "source": [
    "Let us now draw the histogram and observe important statistic."
   ]
  },
  {
   "cell_type": "code",
   "execution_count": 18,
   "metadata": {},
   "outputs": [
    {
     "data": {
      "image/png": "[encoded data removed]",
      "text/plain": [
       "<Figure size 800x400 with 1 Axes>"
      ]
     },
     "metadata": {
      "needs_background": "light"
     },
     "output_type": "display_data"
    }
   ],
   "source": [
    "plt.figure(figsize=(8,4), dpi = 100)\n",
    "plt.hist(sample2, bins=20, color = 'c')\n",
    "plt.axvline(np.mean(sample2), color='b', linestyle='solid', linewidth=2) \n",
    "plt.axvline(np.mean(sample2) + 2 * np.std(sample2), color='b', linestyle='dashed', linewidth=2) \n",
    "plt.axvline(np.mean(sample2) - 2 * np.std(sample2), color='b', linestyle='dashed', linewidth=2)\n",
    "plt.show()"
   ]
  },
  {
   "cell_type": "markdown",
   "metadata": {},
   "source": [
    "Since the dataset named `normal_distribution` is distributed normally, the mean is placed where the data sets are located, ie, about 50% of the data falling on both sides and about 67% of the data that is one standard deviation from the mean. However, in some data sets, the average standard deviation does not include the same amount of data on either side of the average. In other words, since the average does not fall to the center, it is no longer a measure of the “central” tendency, and the standard deviation no longer shows how much variance there is. This is defined as skewness. "
   ]
  },
  {
   "cell_type": "markdown",
   "metadata": {},
   "source": [
    "* First dataset : Mean ($\\mu$) < Median\n",
    "* Second dataset : Mean ($\\mu$)= Median\n",
    "* Third dataset : Mean ($\\mu$)> Median\n",
    "\n",
    "Now, Let's look at the Q-Q plots of these datasets."
   ]
  },
  {
   "cell_type": "markdown",
   "metadata": {},
   "source": [
    "<img src=\"qqplot.png\" width=\"800\">"
   ]
  },
  {
   "cell_type": "markdown",
   "metadata": {},
   "source": [
    "# 2. Other Distributions\n",
    "\n",
    "Although it is easy and common to work with the normal distribution, we cannot use the normal distribution if the data we work does not fit the normal distribution. So far, we have classified the data as \"normal\" or \"non-normal\", we will now examine \"non-normal\" distributions. There are many distributions with useful properties to address specific statistical problems. Let us summarize some of the distributions you will use from time to time as a data scientist.\n",
    "\n",
    "##  2.1. Bernoulli Distribution\n",
    "\n",
    "The Bernoulli distribution represents two possible consequences of an event (such as a coin-to-coin game).\n",
    "\n",
    "<img src=\"bernoulli_dist.png\" width=\"500\">\n",
    "\n",
    "The Bernoulli distribution is a special case of the Binomial distribution in which a single experiment is carried out with a number of observations of 1, so the Bernoulli distribution describes events with exactly two consequences. Simply put, mathematically, p shows the probability of the event and k shows the results.\n",
    "\n",
    "Probability mass function for Bernoulli distribution:\n",
    "\n",
    "$$\n",
    "f(k|p)=\\begin{cases}\n",
    "p,&\\text{if }k=1\\\\\n",
    "1-p,&\\text{otherwise}\\\\\n",
    "\\end{cases}$$\n",
    "\n",
    "When a distribution is discrete (it takes only integers), that probability is defined by the probability mass function. Continuous distribution has the probability density function.\n",
    "\n",
    "We can use the `binomial ()` function in the random module of the numpy library to make a Bernoulli experiment. It is enough to give a value of 1 to the distribution parameter (n), which is the first parameter in this function."
   ]
  },
  {
   "cell_type": "code",
   "execution_count": 20,
   "metadata": {},
   "outputs": [
    {
     "data": {
      "image/png": "[encoded data removed]",
      "text/plain": [
       "<Figure size 432x288 with 1 Axes>"
      ]
     },
     "metadata": {
      "needs_background": "light"
     },
     "output_type": "display_data"
    }
   ],
   "source": [
    "bernoulli = np.random.binomial(1, .5, 1000)\n",
    "plt.hist(bernoulli);"
   ]
  },
  {
   "cell_type": "markdown",
   "metadata": {},
   "source": [
    "As mentioned, the Bernoulli distribution modeling over probability, such as success, failure, or coin, gives us the probability of 0 or 1."
   ]
  },
  {
   "cell_type": "markdown",
   "metadata": {},
   "source": [
    "##  2.2. Binomial Distribution\n",
    "\n",
    "The binomial distribution is related to finding the probability of success of an event that produces only two results in a series of experiments. For example, throwing a coin will always result in a coin or coin. It is estimated that during the binomial deployment it is possible to find exactly 3 rounds by repeatedly throwing coins 10 times.\n",
    "\n",
    "Binomial distribution and Bernoulli distribution can be mixed. To explain, a Bernoulli random variable has two possible consequences: 0 or 1.\n",
    "\n",
    "A binomial distribution is the sum of Bernoulli random variables distributed independently and indenpendent and identically. For example, the gain from a coin throw is the Bernoulli random variable. If this experiment is repeated 10 times, the yield is between 0 and 10 dollars. The probability of winning 10 pounds is p 10.\n",
    "\n",
    "The binomial distribution counts the number of successes of these events when there is a binary event repeated many times (such as many coin flips). p indicates the probability of achieving k successes during the repetition of activity n.\n",
    "\n",
    "Probability mass function:\n",
    "\n",
    "$$\n",
    "f(k|n,p)={n\\choose k} p^k(1-p)^{n-k}$$\n",
    "\n",
    "Flipping a coin is a good example for binomial distribution. Assume that after flipping a coin 10 times, we realize that probability of getting tail is 0.4, that is p(Y)=0.4, and  probability of getting head is 0.6, that is P(T)=0.6. In this case, the probability of getting head 4 times\n",
    "\n",
    "Let us take the flipping a coin case. Suppose that, after flipping the coin 10 times, it turns out the probability of getting tail is 0.4, P(Y)= 0.4, and getting head is 0.6, P(T)=0.6. Then, the probability of getting tail 4 times out of a sample size of 10 is:\n",
    "\n",
    "$$\n",
    "p(k=4)=C^{10}_4(0.4)^4(0.6)^6$$\n",
    "\n",
    "Let's create a Bernoulli distribution with a probability of 0.5 in 20 of 100 repeats. Since there is no built-on Bernoulli distribution code in Python, we are trying to model the Bernoulli distribution using binomial distribution."
   ]
  },
  {
   "cell_type": "code",
   "execution_count": 21,
   "metadata": {},
   "outputs": [
    {
     "data": {
      "image/png": "[encoded data removed]",
      "text/plain": [
       "<Figure size 432x288 with 1 Axes>"
      ]
     },
     "metadata": {
      "needs_background": "light"
     },
     "output_type": "display_data"
    }
   ],
   "source": [
    "binomial = np.random.binomial(20, 0.5, 100)\n",
    "plt.hist(binomial);"
   ]
  },
  {
   "cell_type": "markdown",
   "metadata": {},
   "source": [
    "Now let's experiment with the binomial function in the `stats` module of the `scipy` library with different number of repeats and probability values. This function returns a distribution object of type `rv_frozen`. We can do many things with this object variable. Here, we will create y values for x values with values between 1 and 40 by means of pmf () (probability mass function) and plot the function."
   ]
  },
  {
   "cell_type": "markdown",
   "metadata": {},
   "source": [
    "##  2.3. Uniform Distribution\n",
    "\n",
    "A uniform distribution is a probability distribution in which each value in a given range is equally likely to occur and that out-of-range values are never likely to occur. As the probability of occurrence of an event at any equal range along the uniform probability density graph is equal, this curve defining the distribution takes the form of a rectangular shape with a constant height over the range and a height of 0 outside the defined range."
   ]
  },
  {
   "cell_type": "markdown",
   "metadata": {},
   "source": [
    "Because the area under the curve must be equal to 1, the length of the interval determines the height of the curve. The following figure shows the even distribution of the range. (a, b). Note that the field should be 1.\n",
    "\n",
    "<img src=\"uniform.png\" width=\"400\">"
   ]
  },
  {
   "cell_type": "markdown",
   "metadata": {},
   "source": [
    "If we plot the density of a uniform distribution, it will appear flat because no value is more likely (and therefore has more density) than the other.\n"
   ]
  },
  {
   "cell_type": "markdown",
   "metadata": {},
   "source": [
    "If a countinous variable X has a following probability density function, X is said to be uniformly distributed.\n",
    "\n",
    "$$ f(x)=\\frac{1}{b-a},a<x<b$$\n",
    "\n",
    "Uniform distribution is sometimes called rectangular distribution. Because the probability density function of the uniform distribution is similar to a rectangle."
   ]
  },
  {
   "cell_type": "markdown",
   "metadata": {},
   "source": [
    "Now, with python, let's create a uniformly distributed dataset and draw its histogram and density function. To create a dataset, we will use the `uniform ()` function in the stats module of the scipy library."
   ]
  },
  {
   "cell_type": "code",
   "execution_count": 26,
   "metadata": {},
   "outputs": [
    {
     "data": {
      "image/png": "[encoded data removed]",
      "text/plain": [
       "<Figure size 432x288 with 1 Axes>"
      ]
     },
     "metadata": {
      "needs_background": "light"
     },
     "output_type": "display_data"
    }
   ],
   "source": [
    "uniform = stats.uniform.rvs(size=100000,loc=0, scale=10)\n",
    "df = pd.DataFrame(uniform)\n",
    "df.plot(kind='density');"
   ]
  },
  {
   "cell_type": "markdown",
   "metadata": {},
   "source": [
    "Finally, let's remember to create data sets with the distributions we see in this lesson:\n",
    "\n",
    "* Random number generation from Bernoulli distribution with 100 rows and 1 column and with probability of success p\n",
    "\n",
    "``` python\n",
    "np.random.binomial(1,p,(100,1))\n",
    "```\n",
    "* Random number generation from a Binomial distribution with 100 rows and 10 column \n",
    "\n",
    "``` python\n",
    "np.random.binomial(n,p,(100,10))\n",
    "```\n",
    "* Given a mean and variance, data generation from a normal distribution with 1000 rows and 1 column \n",
    "\n",
    "``` python\n",
    "np.random.normal(mu, sigma, (1000,1))\n",
    "```\n",
    "* Data generation from a uniform distribution with 1 row and column and with a specific upper and lower limit\n",
    "\n",
    "``` python\n",
    "np.random.uniform(low, high, (1,1))\n",
    "```"
   ]
  }
 ],
 "metadata": {
  "kernelspec": {
   "display_name": "Python 3",
   "language": "python",
   "name": "python3"
  },
  "language_info": {
   "codemirror_mode": {
    "name": "ipython",
    "version": 3
   },
   "file_extension": ".py",
   "mimetype": "text/x-python",
   "name": "python",
   "nbconvert_exporter": "python",
   "pygments_lexer": "ipython3",
   "version": "3.7.3"
  },
  "latex_envs": {
   "LaTeX_envs_menu_present": true,
   "autoclose": false,
   "autocomplete": true,
   "bibliofile": "biblio.bib",
   "cite_by": "apalike",
   "current_citInitial": 1,
   "eqLabelWithNumbers": true,
   "eqNumInitial": 1,
   "hotkeys": {
    "equation": "Ctrl-E",
    "itemize": "Ctrl-I"
   },
   "labels_anchors": false,
   "latex_user_defs": false,
   "report_style_numbering": false,
   "user_envs_cfg": false
  },
  "toc": {
   "base_numbering": 1,
   "nav_menu": {},
   "number_sections": false,
   "sideBar": true,
   "skip_h1_title": false,
   "title_cell": "Table of Contents",
   "title_sidebar": "Contents",
   "toc_cell": false,
   "toc_position": {},
   "toc_section_display": true,
   "toc_window_display": false
  }
 },
 "nbformat": 4,
 "nbformat_minor": 4
}
